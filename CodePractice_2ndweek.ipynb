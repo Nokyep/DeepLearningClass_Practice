{
  "nbformat": 4,
  "nbformat_minor": 0,
  "metadata": {
    "colab": {
      "name": "CodePractice_2ndweek.ipynb",
      "provenance": [],
      "collapsed_sections": [],
      "authorship_tag": "ABX9TyMaW0fY5Va3Q2PNmQaN/LOm",
      "include_colab_link": true
    },
    "kernelspec": {
      "name": "python3",
      "display_name": "Python 3"
    }
  },
  "cells": [
    {
      "cell_type": "markdown",
      "metadata": {
        "id": "view-in-github",
        "colab_type": "text"
      },
      "source": [
        "<a href=\"https://colab.research.google.com/github/Nokyep/DeepLearningClass_Practice/blob/master/CodePractice_2ndweek.ipynb\" target=\"_parent\"><img src=\"https://colab.research.google.com/assets/colab-badge.svg\" alt=\"Open In Colab\"/></a>"
      ]
    },
    {
      "cell_type": "code",
      "metadata": {
        "colab": {
          "base_uri": "https://localhost:8080/"
        },
        "id": "K-fpq6109vlA",
        "outputId": "a8d5c6d3-4298-46f3-bc2a-1116b5bb78b3"
      },
      "source": [
        "3.14 * 10 * 10"
      ],
      "execution_count": 1,
      "outputs": [
        {
          "output_type": "execute_result",
          "data": {
            "text/plain": [
              "314.0"
            ]
          },
          "metadata": {
            "tags": []
          },
          "execution_count": 1
        }
      ]
    },
    {
      "cell_type": "code",
      "metadata": {
        "colab": {
          "base_uri": "https://localhost:8080/"
        },
        "id": "dsnrKd2G-L91",
        "outputId": "6401c43f-9072-4522-fbda-76bde69879dd"
      },
      "source": [
        "3.14 * 10**2"
      ],
      "execution_count": 3,
      "outputs": [
        {
          "output_type": "execute_result",
          "data": {
            "text/plain": [
              "314.0"
            ]
          },
          "metadata": {
            "tags": []
          },
          "execution_count": 3
        }
      ]
    },
    {
      "cell_type": "code",
      "metadata": {
        "colab": {
          "base_uri": "https://localhost:8080/"
        },
        "id": "GZrCZmaN-SbZ",
        "outputId": "dcd7ac4f-13e1-4eef-becb-967798d8c3b1"
      },
      "source": [
        "type(10)"
      ],
      "execution_count": 4,
      "outputs": [
        {
          "output_type": "execute_result",
          "data": {
            "text/plain": [
              "int"
            ]
          },
          "metadata": {
            "tags": []
          },
          "execution_count": 4
        }
      ]
    },
    {
      "cell_type": "code",
      "metadata": {
        "colab": {
          "base_uri": "https://localhost:8080/"
        },
        "id": "CD7F9gTx_SNc",
        "outputId": "9fd79c01-4aec-4ac9-b1db-d783fc2c8c26"
      },
      "source": [
        "type(3.14)"
      ],
      "execution_count": 5,
      "outputs": [
        {
          "output_type": "execute_result",
          "data": {
            "text/plain": [
              "float"
            ]
          },
          "metadata": {
            "tags": []
          },
          "execution_count": 5
        }
      ]
    },
    {
      "cell_type": "code",
      "metadata": {
        "colab": {
          "base_uri": "https://localhost:8080/"
        },
        "id": "xw6UomzB_UMZ",
        "outputId": "976b80a9-99d5-4700-aac2-2cc4eed16d5c"
      },
      "source": [
        "type('python')"
      ],
      "execution_count": 6,
      "outputs": [
        {
          "output_type": "execute_result",
          "data": {
            "text/plain": [
              "str"
            ]
          },
          "metadata": {
            "tags": []
          },
          "execution_count": 6
        }
      ]
    },
    {
      "cell_type": "code",
      "metadata": {
        "colab": {
          "base_uri": "https://localhost:8080/"
        },
        "id": "80VPbFge_Yxe",
        "outputId": "ca702175-6610-40cf-b245-ce9b30e7d705"
      },
      "source": [
        "type([1,2,3])"
      ],
      "execution_count": 7,
      "outputs": [
        {
          "output_type": "execute_result",
          "data": {
            "text/plain": [
              "list"
            ]
          },
          "metadata": {
            "tags": []
          },
          "execution_count": 7
        }
      ]
    },
    {
      "cell_type": "code",
      "metadata": {
        "colab": {
          "base_uri": "https://localhost:8080/"
        },
        "id": "8ZUuu2Z3_eVm",
        "outputId": "dac88beb-adc4-4ec4-aaef-6c7358b95ced"
      },
      "source": [
        "type({1,2,3})"
      ],
      "execution_count": 8,
      "outputs": [
        {
          "output_type": "execute_result",
          "data": {
            "text/plain": [
              "set"
            ]
          },
          "metadata": {
            "tags": []
          },
          "execution_count": 8
        }
      ]
    },
    {
      "cell_type": "code",
      "metadata": {
        "colab": {
          "base_uri": "https://localhost:8080/"
        },
        "id": "6p1xrluY_jou",
        "outputId": "1714aca2-85fb-4e18-96af-a7676aebf843"
      },
      "source": [
        "type((1,2,3))"
      ],
      "execution_count": 9,
      "outputs": [
        {
          "output_type": "execute_result",
          "data": {
            "text/plain": [
              "tuple"
            ]
          },
          "metadata": {
            "tags": []
          },
          "execution_count": 9
        }
      ]
    },
    {
      "cell_type": "code",
      "metadata": {
        "colab": {
          "base_uri": "https://localhost:8080/"
        },
        "id": "a8UCWVut_mNv",
        "outputId": "9e9ad167-b99a-4537-9478-938c6aeccb9a"
      },
      "source": [
        "r = 20\r\n",
        "PI = 3.14 #원주율\r\n",
        "area = PI * r**2 #반지름의 제곱\r\n",
        "\r\n",
        "area"
      ],
      "execution_count": 10,
      "outputs": [
        {
          "output_type": "execute_result",
          "data": {
            "text/plain": [
              "1256.0"
            ]
          },
          "metadata": {
            "tags": []
          },
          "execution_count": 10
        }
      ]
    },
    {
      "cell_type": "code",
      "metadata": {
        "id": "kkfj9ky4_4s9"
      },
      "source": [
        ""
      ],
      "execution_count": null,
      "outputs": []
    },
    {
      "cell_type": "markdown",
      "metadata": {
        "id": "HZGxN4iT_95u"
      },
      "source": [
        "#리스트 복습"
      ]
    },
    {
      "cell_type": "code",
      "metadata": {
        "colab": {
          "base_uri": "https://localhost:8080/"
        },
        "id": "RndBwXecAEEC",
        "outputId": "835623c4-046c-4b8c-b529-957c7af2e02e"
      },
      "source": [
        "lst = [10, 20, 30, 40, 50]\r\n",
        "\r\n",
        "lst"
      ],
      "execution_count": 11,
      "outputs": [
        {
          "output_type": "execute_result",
          "data": {
            "text/plain": [
              "[10, 20, 30, 40, 50]"
            ]
          },
          "metadata": {
            "tags": []
          },
          "execution_count": 11
        }
      ]
    },
    {
      "cell_type": "code",
      "metadata": {
        "colab": {
          "base_uri": "https://localhost:8080/"
        },
        "id": "FKDJNJ3QAOjw",
        "outputId": "cd37cf0c-fc15-4ce7-a984-47fbd72a64a4"
      },
      "source": [
        "lst[2]"
      ],
      "execution_count": 12,
      "outputs": [
        {
          "output_type": "execute_result",
          "data": {
            "text/plain": [
              "30"
            ]
          },
          "metadata": {
            "tags": []
          },
          "execution_count": 12
        }
      ]
    },
    {
      "cell_type": "code",
      "metadata": {
        "colab": {
          "base_uri": "https://localhost:8080/"
        },
        "id": "c4RAcwyOARnb",
        "outputId": "16e8f85b-6f73-4bad-d7a2-d29627085b7c"
      },
      "source": [
        "lst[2] = 77\r\n",
        "\r\n",
        "lst"
      ],
      "execution_count": 13,
      "outputs": [
        {
          "output_type": "execute_result",
          "data": {
            "text/plain": [
              "[10, 20, 77, 40, 50]"
            ]
          },
          "metadata": {
            "tags": []
          },
          "execution_count": 13
        }
      ]
    },
    {
      "cell_type": "code",
      "metadata": {
        "colab": {
          "base_uri": "https://localhost:8080/"
        },
        "id": "uImTkzIrAbJP",
        "outputId": "2196e291-425e-477d-d54c-fd351558a753"
      },
      "source": [
        "len(lst)"
      ],
      "execution_count": 14,
      "outputs": [
        {
          "output_type": "execute_result",
          "data": {
            "text/plain": [
              "5"
            ]
          },
          "metadata": {
            "tags": []
          },
          "execution_count": 14
        }
      ]
    },
    {
      "cell_type": "markdown",
      "metadata": {
        "id": "MRk-v8EyAut9"
      },
      "source": [
        "# 리스트 슬라이싱"
      ]
    },
    {
      "cell_type": "code",
      "metadata": {
        "colab": {
          "base_uri": "https://localhost:8080/"
        },
        "id": "-OxH73yTA2Kd",
        "outputId": "bf9829ad-cd00-4522-a0b5-267422724532"
      },
      "source": [
        "lst"
      ],
      "execution_count": 16,
      "outputs": [
        {
          "output_type": "execute_result",
          "data": {
            "text/plain": [
              "[10, 20, 77, 40, 50]"
            ]
          },
          "metadata": {
            "tags": []
          },
          "execution_count": 16
        }
      ]
    },
    {
      "cell_type": "code",
      "metadata": {
        "colab": {
          "base_uri": "https://localhost:8080/"
        },
        "id": "gAcBA-l3A5nz",
        "outputId": "390b443a-99c3-4c97-cd1e-1fd36d682222"
      },
      "source": [
        "lst[0:3] #0번 인덱스부터 순서대로 3개 출력"
      ],
      "execution_count": 17,
      "outputs": [
        {
          "output_type": "execute_result",
          "data": {
            "text/plain": [
              "[10, 20, 77]"
            ]
          },
          "metadata": {
            "tags": []
          },
          "execution_count": 17
        }
      ]
    },
    {
      "cell_type": "code",
      "metadata": {
        "colab": {
          "base_uri": "https://localhost:8080/"
        },
        "id": "xGG6pK7RA8sW",
        "outputId": "a3847c09-1a42-44dc-c235-7e37bf304cbd"
      },
      "source": [
        "lst[2:] #두번째원소부터 끝까지 출력 (공백)"
      ],
      "execution_count": 18,
      "outputs": [
        {
          "output_type": "execute_result",
          "data": {
            "text/plain": [
              "[77, 40, 50]"
            ]
          },
          "metadata": {
            "tags": []
          },
          "execution_count": 18
        }
      ]
    },
    {
      "cell_type": "code",
      "metadata": {
        "colab": {
          "base_uri": "https://localhost:8080/"
        },
        "id": "xD9YjaTEBAxs",
        "outputId": "99d6c1c2-cea4-4cb0-ceab-af84d63d2cea"
      },
      "source": [
        "lst[:-1] #끝에서 하나 뺀 후 출력 = -1 바로 앞에것까지 출력 = 50 제외"
      ],
      "execution_count": 19,
      "outputs": [
        {
          "output_type": "execute_result",
          "data": {
            "text/plain": [
              "[10, 20, 77, 40]"
            ]
          },
          "metadata": {
            "tags": []
          },
          "execution_count": 19
        }
      ]
    },
    {
      "cell_type": "markdown",
      "metadata": {
        "id": "1MmDwli2BaYZ"
      },
      "source": [
        "#  딕셔너리 - 키와 값이 쌍으로 이루어짐"
      ]
    },
    {
      "cell_type": "code",
      "metadata": {
        "id": "67wVmJp_Bcxm"
      },
      "source": [
        "car = {'HP' : 200, 'maker':\"BMW\"} #딕셔너리 정의"
      ],
      "execution_count": 20,
      "outputs": []
    },
    {
      "cell_type": "code",
      "metadata": {
        "colab": {
          "base_uri": "https://localhost:8080/"
        },
        "id": "k5kIyWZEC-5o",
        "outputId": "e4fabda9-d9f2-4e97-d276-ae0801721507"
      },
      "source": [
        "car['HP']"
      ],
      "execution_count": 21,
      "outputs": [
        {
          "output_type": "execute_result",
          "data": {
            "text/plain": [
              "200"
            ]
          },
          "metadata": {
            "tags": []
          },
          "execution_count": 21
        }
      ]
    },
    {
      "cell_type": "code",
      "metadata": {
        "id": "7CYATvmCDHF8"
      },
      "source": [
        "car['color'] = 'white' #새로운 원소 추가"
      ],
      "execution_count": 22,
      "outputs": []
    },
    {
      "cell_type": "code",
      "metadata": {
        "colab": {
          "base_uri": "https://localhost:8080/"
        },
        "id": "0TymfOsoDPAF",
        "outputId": "858a785c-27ec-4f62-920b-70f6c8bb6a60"
      },
      "source": [
        "car"
      ],
      "execution_count": 23,
      "outputs": [
        {
          "output_type": "execute_result",
          "data": {
            "text/plain": [
              "{'HP': 200, 'color': 'white', 'maker': 'BMW'}"
            ]
          },
          "metadata": {
            "tags": []
          },
          "execution_count": 23
        }
      ]
    },
    {
      "cell_type": "markdown",
      "metadata": {
        "id": "Gmd7QREeDuov"
      },
      "source": [
        "# if-else 문"
      ]
    },
    {
      "cell_type": "code",
      "metadata": {
        "id": "ufckwoy9DxQe"
      },
      "source": [
        "temp = -10"
      ],
      "execution_count": 24,
      "outputs": []
    },
    {
      "cell_type": "code",
      "metadata": {
        "colab": {
          "base_uri": "https://localhost:8080/"
        },
        "id": "7pTnODx4D3ef",
        "outputId": "874ad1b2-f2d7-40a2-cb28-a361e103f31f"
      },
      "source": [
        "if temp < 0 :\r\n",
        "  print(\"영하 기온입니다.\")\r\n",
        "else :\r\n",
        "  print(\"영상 기온입니다.\")"
      ],
      "execution_count": 26,
      "outputs": [
        {
          "output_type": "stream",
          "text": [
            "영하 기온입니다.\n"
          ],
          "name": "stdout"
        }
      ]
    },
    {
      "cell_type": "markdown",
      "metadata": {
        "id": "b_lC8oybEUiF"
      },
      "source": [
        "# for 문"
      ]
    },
    {
      "cell_type": "code",
      "metadata": {
        "colab": {
          "base_uri": "https://localhost:8080/"
        },
        "id": "TXWg_EZiEWpL",
        "outputId": "76d8da6f-b2d1-4bdf-bc1c-92a639d7329e"
      },
      "source": [
        "for i in [1,2,3,4,5]:\r\n",
        "  print(i, end=\" \") #print문의 끝은 enter이므로 enter가 아닌 한 칸 띄우기 실행명령어"
      ],
      "execution_count": 27,
      "outputs": [
        {
          "output_type": "stream",
          "text": [
            "1 2 3 4 5 "
          ],
          "name": "stdout"
        }
      ]
    },
    {
      "cell_type": "code",
      "metadata": {
        "colab": {
          "base_uri": "https://localhost:8080/"
        },
        "id": "df7BlDfUEj2_",
        "outputId": "e7eaaf47-76e2-43eb-ca5a-57230f3265e5"
      },
      "source": [
        "for i in [1,2,3,4,5]:\r\n",
        "  print(i)"
      ],
      "execution_count": 28,
      "outputs": [
        {
          "output_type": "stream",
          "text": [
            "1\n",
            "2\n",
            "3\n",
            "4\n",
            "5\n"
          ],
          "name": "stdout"
        }
      ]
    },
    {
      "cell_type": "markdown",
      "metadata": {
        "id": "jRFnHofTEriD"
      },
      "source": [
        "# function 함수 복습"
      ]
    },
    {
      "cell_type": "code",
      "metadata": {
        "id": "4KtL9pAwEtwu"
      },
      "source": [
        "def hellopython(): #함수 정의 (def)\r\n",
        "  print(\"Hello Python!!\")"
      ],
      "execution_count": 29,
      "outputs": []
    },
    {
      "cell_type": "code",
      "metadata": {
        "colab": {
          "base_uri": "https://localhost:8080/"
        },
        "id": "RaSum7xvE4KK",
        "outputId": "a49506d0-6b57-45fb-8b86-61906675424b"
      },
      "source": [
        "hellopython()"
      ],
      "execution_count": 30,
      "outputs": [
        {
          "output_type": "stream",
          "text": [
            "Hello Python!!\n"
          ],
          "name": "stdout"
        }
      ]
    },
    {
      "cell_type": "code",
      "metadata": {
        "id": "3ONKsUazE7fr"
      },
      "source": [
        "def helloname(name): #helloname에서 name을 입력받음\r\n",
        "  print(\"Hello \" + name)"
      ],
      "execution_count": 36,
      "outputs": []
    },
    {
      "cell_type": "code",
      "metadata": {
        "colab": {
          "base_uri": "https://localhost:8080/"
        },
        "id": "QMJz5p4gFA-2",
        "outputId": "91f10ce5-e85c-4134-9861-17bea39226f4"
      },
      "source": [
        "helloname(\"Deep Learning!!\") #Hello 와 합쳐진 문자열이 출력됨"
      ],
      "execution_count": 37,
      "outputs": [
        {
          "output_type": "stream",
          "text": [
            "Hello Deep Learning!!\n"
          ],
          "name": "stdout"
        }
      ]
    },
    {
      "cell_type": "markdown",
      "metadata": {
        "id": "TyK70U6YFa5k"
      },
      "source": [
        "# 파이썬 클래스"
      ]
    },
    {
      "cell_type": "code",
      "metadata": {
        "id": "8KQogxltFcz4"
      },
      "source": [
        "class Person:\r\n",
        "  def __init__(self, name, age):\r\n",
        "    self.name = name\r\n",
        "    self.age = age\r\n",
        "  \r\n",
        "  def sayName(self):\r\n",
        "    print(\"Hello My Name is \" + self.name)"
      ],
      "execution_count": 40,
      "outputs": []
    },
    {
      "cell_type": "code",
      "metadata": {
        "id": "bH24MkFiFvBO"
      },
      "source": [
        "p1 = Person(\"James\", 12)"
      ],
      "execution_count": 41,
      "outputs": []
    },
    {
      "cell_type": "code",
      "metadata": {
        "colab": {
          "base_uri": "https://localhost:8080/"
        },
        "id": "b7lS0k2DF5RI",
        "outputId": "7584c0d7-af46-4b0c-bc6b-98943333d86a"
      },
      "source": [
        "p1.sayName()"
      ],
      "execution_count": 42,
      "outputs": [
        {
          "output_type": "stream",
          "text": [
            "Hello My Name is James\n"
          ],
          "name": "stdout"
        }
      ]
    },
    {
      "cell_type": "markdown",
      "metadata": {
        "id": "d_mUa9x2G45L"
      },
      "source": [
        "# 넘파이"
      ]
    },
    {
      "cell_type": "code",
      "metadata": {
        "id": "IPWZfjy4G5yB"
      },
      "source": [
        "import numpy as np #넘파이 모듈 사용 선언"
      ],
      "execution_count": 43,
      "outputs": []
    },
    {
      "cell_type": "code",
      "metadata": {
        "id": "OEVGYq0mG9bq"
      },
      "source": [
        "a = np.array([1,2,3])"
      ],
      "execution_count": 44,
      "outputs": []
    },
    {
      "cell_type": "code",
      "metadata": {
        "colab": {
          "base_uri": "https://localhost:8080/"
        },
        "id": "JCnalSqAG_Zv",
        "outputId": "882d77c7-6b65-4e15-e67b-326fcf14677c"
      },
      "source": [
        "a"
      ],
      "execution_count": 45,
      "outputs": [
        {
          "output_type": "execute_result",
          "data": {
            "text/plain": [
              "array([1, 2, 3])"
            ]
          },
          "metadata": {
            "tags": []
          },
          "execution_count": 45
        }
      ]
    },
    {
      "cell_type": "code",
      "metadata": {
        "colab": {
          "base_uri": "https://localhost:8080/"
        },
        "id": "K-M6VztGG_4Q",
        "outputId": "6b6025af-1bc9-40a9-895c-333e1aa6f414"
      },
      "source": [
        "a[0]"
      ],
      "execution_count": 46,
      "outputs": [
        {
          "output_type": "execute_result",
          "data": {
            "text/plain": [
              "1"
            ]
          },
          "metadata": {
            "tags": []
          },
          "execution_count": 46
        }
      ]
    },
    {
      "cell_type": "code",
      "metadata": {
        "colab": {
          "base_uri": "https://localhost:8080/"
        },
        "id": "Dv6BSCwhHB1q",
        "outputId": "38fb9f57-c4f0-4e66-c567-ce0d8c1f4020"
      },
      "source": [
        "a[2]"
      ],
      "execution_count": 47,
      "outputs": [
        {
          "output_type": "execute_result",
          "data": {
            "text/plain": [
              "3"
            ]
          },
          "metadata": {
            "tags": []
          },
          "execution_count": 47
        }
      ]
    },
    {
      "cell_type": "markdown",
      "metadata": {
        "id": "L04FcecXHukd"
      },
      "source": [
        "# 2차원 배열 with numpy"
      ]
    },
    {
      "cell_type": "code",
      "metadata": {
        "id": "wP5amcrCHxuB"
      },
      "source": [
        "b = np.array([[1,2,3], [4,5,6], [7,8,9]]) #첫번째 인덱스 라인 (세로) / 두번째 인덱스 라인(가로)\r\n",
        "                                          # b[0][2]인 경우 3을 가리키는 것임\r\n",
        "                                          "
      ],
      "execution_count": 48,
      "outputs": []
    },
    {
      "cell_type": "code",
      "metadata": {
        "colab": {
          "base_uri": "https://localhost:8080/"
        },
        "id": "TW_ruJVgHyUz",
        "outputId": "d3722d11-5f02-4b6e-9a5d-e5bf225c5cbf"
      },
      "source": [
        "b"
      ],
      "execution_count": 49,
      "outputs": [
        {
          "output_type": "execute_result",
          "data": {
            "text/plain": [
              "array([[1, 2, 3],\n",
              "       [4, 5, 6],\n",
              "       [7, 8, 9]])"
            ]
          },
          "metadata": {
            "tags": []
          },
          "execution_count": 49
        }
      ]
    },
    {
      "cell_type": "code",
      "metadata": {
        "colab": {
          "base_uri": "https://localhost:8080/"
        },
        "id": "ZkvJAEhwHyvS",
        "outputId": "fe7f3eb4-4f8a-4a25-f550-7582f9ff424d"
      },
      "source": [
        "b[2][2]"
      ],
      "execution_count": 50,
      "outputs": [
        {
          "output_type": "execute_result",
          "data": {
            "text/plain": [
              "9"
            ]
          },
          "metadata": {
            "tags": []
          },
          "execution_count": 50
        }
      ]
    },
    {
      "cell_type": "code",
      "metadata": {
        "colab": {
          "base_uri": "https://localhost:8080/"
        },
        "id": "D9d11hxoH5NA",
        "outputId": "f118c39b-249b-4858-eefc-4ce95d720ac3"
      },
      "source": [
        "b[2][1]"
      ],
      "execution_count": 51,
      "outputs": [
        {
          "output_type": "execute_result",
          "data": {
            "text/plain": [
              "8"
            ]
          },
          "metadata": {
            "tags": []
          },
          "execution_count": 51
        }
      ]
    },
    {
      "cell_type": "code",
      "metadata": {
        "colab": {
          "base_uri": "https://localhost:8080/"
        },
        "id": "4PW8quz2H8yZ",
        "outputId": "2fc88d31-23f0-4446-bc53-845af72ad604"
      },
      "source": [
        "b[2,1] #이렇게도 위와같이 출력 가능"
      ],
      "execution_count": 52,
      "outputs": [
        {
          "output_type": "execute_result",
          "data": {
            "text/plain": [
              "8"
            ]
          },
          "metadata": {
            "tags": []
          },
          "execution_count": 52
        }
      ]
    },
    {
      "cell_type": "markdown",
      "metadata": {
        "id": "Mo1TAEEbIX2t"
      },
      "source": [
        "# 딥러닝에서 매우 중요한 함수"
      ]
    },
    {
      "cell_type": "code",
      "metadata": {
        "colab": {
          "base_uri": "https://localhost:8080/"
        },
        "id": "wVMAsAZcH_Nm",
        "outputId": "e714e89e-0e47-4e7f-f511-bd3df5fd6f4f"
      },
      "source": [
        "np.zeros((3,4)) # 3,4 행렬 (0값만 가진 = zeros)"
      ],
      "execution_count": 53,
      "outputs": [
        {
          "output_type": "execute_result",
          "data": {
            "text/plain": [
              "array([[0., 0., 0., 0.],\n",
              "       [0., 0., 0., 0.],\n",
              "       [0., 0., 0., 0.]])"
            ]
          },
          "metadata": {
            "tags": []
          },
          "execution_count": 53
        }
      ]
    },
    {
      "cell_type": "code",
      "metadata": {
        "colab": {
          "base_uri": "https://localhost:8080/"
        },
        "id": "m7s3LwfBIJUp",
        "outputId": "e0d5c7a4-cb87-47ac-880b-a296d1c0541b"
      },
      "source": [
        "np.ones((3,4)) # 3,4행렬 (1값만 가진 = ones)"
      ],
      "execution_count": 54,
      "outputs": [
        {
          "output_type": "execute_result",
          "data": {
            "text/plain": [
              "array([[1., 1., 1., 1.],\n",
              "       [1., 1., 1., 1.],\n",
              "       [1., 1., 1., 1.]])"
            ]
          },
          "metadata": {
            "tags": []
          },
          "execution_count": 54
        }
      ]
    },
    {
      "cell_type": "code",
      "metadata": {
        "colab": {
          "base_uri": "https://localhost:8080/"
        },
        "id": "61ChCxVJINFd",
        "outputId": "1c751460-6b3a-4ba7-ac3b-7bda3b534619"
      },
      "source": [
        "np.eye(3) #정방행렬이 만들어지며 대각성분이 지정이 된다."
      ],
      "execution_count": 55,
      "outputs": [
        {
          "output_type": "execute_result",
          "data": {
            "text/plain": [
              "array([[1., 0., 0.],\n",
              "       [0., 1., 0.],\n",
              "       [0., 0., 1.]])"
            ]
          },
          "metadata": {
            "tags": []
          },
          "execution_count": 55
        }
      ]
    },
    {
      "cell_type": "code",
      "metadata": {
        "colab": {
          "base_uri": "https://localhost:8080/"
        },
        "id": "D5c8bWNGIS48",
        "outputId": "9c105789-55e1-4144-ab6d-11f69b3d05de"
      },
      "source": [
        "np.random.random((3,4)) #3,4행렬에 랜덤한 값 주어짐 0~1까지"
      ],
      "execution_count": 56,
      "outputs": [
        {
          "output_type": "execute_result",
          "data": {
            "text/plain": [
              "array([[0.36766011, 0.80665722, 0.69253987, 0.0733223 ],\n",
              "       [0.94494706, 0.03833435, 0.2271985 , 0.65000975],\n",
              "       [0.76416132, 0.43585197, 0.97151518, 0.55095441]])"
            ]
          },
          "metadata": {
            "tags": []
          },
          "execution_count": 56
        }
      ]
    },
    {
      "cell_type": "code",
      "metadata": {
        "colab": {
          "base_uri": "https://localhost:8080/"
        },
        "id": "fcsY-j2jIihl",
        "outputId": "0084b616-dae1-4e10-8c0a-569162bcec20"
      },
      "source": [
        "np.arange(5) #5개의 원소를 출력 = 인덱스 0부터하면 5는 제외될 수밖에 없음\r\n",
        "              #np.arange(start,stop,step) = 시작값, 종료값, 간격값 \r\n",
        "              # 매우 중요한 함수"
      ],
      "execution_count": 57,
      "outputs": [
        {
          "output_type": "execute_result",
          "data": {
            "text/plain": [
              "array([0, 1, 2, 3, 4])"
            ]
          },
          "metadata": {
            "tags": []
          },
          "execution_count": 57
        }
      ]
    },
    {
      "cell_type": "code",
      "metadata": {
        "colab": {
          "base_uri": "https://localhost:8080/"
        },
        "id": "xZwDsK5jIl32",
        "outputId": "e7081966-dbaa-4f6c-ddea-c5a5193f82c4"
      },
      "source": [
        "np.arange(2,100) #2부터시작해서 100 전까지"
      ],
      "execution_count": 58,
      "outputs": [
        {
          "output_type": "execute_result",
          "data": {
            "text/plain": [
              "array([ 2,  3,  4,  5,  6,  7,  8,  9, 10, 11, 12, 13, 14, 15, 16, 17, 18,\n",
              "       19, 20, 21, 22, 23, 24, 25, 26, 27, 28, 29, 30, 31, 32, 33, 34, 35,\n",
              "       36, 37, 38, 39, 40, 41, 42, 43, 44, 45, 46, 47, 48, 49, 50, 51, 52,\n",
              "       53, 54, 55, 56, 57, 58, 59, 60, 61, 62, 63, 64, 65, 66, 67, 68, 69,\n",
              "       70, 71, 72, 73, 74, 75, 76, 77, 78, 79, 80, 81, 82, 83, 84, 85, 86,\n",
              "       87, 88, 89, 90, 91, 92, 93, 94, 95, 96, 97, 98, 99])"
            ]
          },
          "metadata": {
            "tags": []
          },
          "execution_count": 58
        }
      ]
    },
    {
      "cell_type": "code",
      "metadata": {
        "colab": {
          "base_uri": "https://localhost:8080/"
        },
        "id": "XFOxah3SIyZA",
        "outputId": "0e23140b-54dd-4124-a268-70984f6519af"
      },
      "source": [
        "np.arange(1,101,2) #1에서 101까지 출력을 하지만 2씩 건너뛰며 출력 = 홀수 출력"
      ],
      "execution_count": 59,
      "outputs": [
        {
          "output_type": "execute_result",
          "data": {
            "text/plain": [
              "array([ 1,  3,  5,  7,  9, 11, 13, 15, 17, 19, 21, 23, 25, 27, 29, 31, 33,\n",
              "       35, 37, 39, 41, 43, 45, 47, 49, 51, 53, 55, 57, 59, 61, 63, 65, 67,\n",
              "       69, 71, 73, 75, 77, 79, 81, 83, 85, 87, 89, 91, 93, 95, 97, 99])"
            ]
          },
          "metadata": {
            "tags": []
          },
          "execution_count": 59
        }
      ]
    },
    {
      "cell_type": "code",
      "metadata": {
        "colab": {
          "base_uri": "https://localhost:8080/"
        },
        "id": "vPKqUYtjJN5V",
        "outputId": "58842186-c94d-4c50-cc81-a0121fb8fd2f"
      },
      "source": [
        "np.linspace(0,10,100) #0에서 10까지인 것을 100개로 분할\r\n",
        "                      #linear Space\r\n",
        "                      #np.linspace(start,stop,num) = 시작값, 종료값, 개수\r\n",
        "                      #종료값을 포함한다는 특징이 있음 (인덱스 값이 아니기때문이다.)"
      ],
      "execution_count": 61,
      "outputs": [
        {
          "output_type": "execute_result",
          "data": {
            "text/plain": [
              "array([ 0.        ,  0.1010101 ,  0.2020202 ,  0.3030303 ,  0.4040404 ,\n",
              "        0.50505051,  0.60606061,  0.70707071,  0.80808081,  0.90909091,\n",
              "        1.01010101,  1.11111111,  1.21212121,  1.31313131,  1.41414141,\n",
              "        1.51515152,  1.61616162,  1.71717172,  1.81818182,  1.91919192,\n",
              "        2.02020202,  2.12121212,  2.22222222,  2.32323232,  2.42424242,\n",
              "        2.52525253,  2.62626263,  2.72727273,  2.82828283,  2.92929293,\n",
              "        3.03030303,  3.13131313,  3.23232323,  3.33333333,  3.43434343,\n",
              "        3.53535354,  3.63636364,  3.73737374,  3.83838384,  3.93939394,\n",
              "        4.04040404,  4.14141414,  4.24242424,  4.34343434,  4.44444444,\n",
              "        4.54545455,  4.64646465,  4.74747475,  4.84848485,  4.94949495,\n",
              "        5.05050505,  5.15151515,  5.25252525,  5.35353535,  5.45454545,\n",
              "        5.55555556,  5.65656566,  5.75757576,  5.85858586,  5.95959596,\n",
              "        6.06060606,  6.16161616,  6.26262626,  6.36363636,  6.46464646,\n",
              "        6.56565657,  6.66666667,  6.76767677,  6.86868687,  6.96969697,\n",
              "        7.07070707,  7.17171717,  7.27272727,  7.37373737,  7.47474747,\n",
              "        7.57575758,  7.67676768,  7.77777778,  7.87878788,  7.97979798,\n",
              "        8.08080808,  8.18181818,  8.28282828,  8.38383838,  8.48484848,\n",
              "        8.58585859,  8.68686869,  8.78787879,  8.88888889,  8.98989899,\n",
              "        9.09090909,  9.19191919,  9.29292929,  9.39393939,  9.49494949,\n",
              "        9.5959596 ,  9.6969697 ,  9.7979798 ,  9.8989899 , 10.        ])"
            ]
          },
          "metadata": {
            "tags": []
          },
          "execution_count": 61
        }
      ]
    },
    {
      "cell_type": "code",
      "metadata": {
        "colab": {
          "base_uri": "https://localhost:8080/"
        },
        "id": "BrJSQeOhJSrL",
        "outputId": "6ba3ebb6-28af-4320-9e14-1bc68ba93dfa"
      },
      "source": [
        "np.linspace(0,99,100)"
      ],
      "execution_count": 62,
      "outputs": [
        {
          "output_type": "execute_result",
          "data": {
            "text/plain": [
              "array([ 0.,  1.,  2.,  3.,  4.,  5.,  6.,  7.,  8.,  9., 10., 11., 12.,\n",
              "       13., 14., 15., 16., 17., 18., 19., 20., 21., 22., 23., 24., 25.,\n",
              "       26., 27., 28., 29., 30., 31., 32., 33., 34., 35., 36., 37., 38.,\n",
              "       39., 40., 41., 42., 43., 44., 45., 46., 47., 48., 49., 50., 51.,\n",
              "       52., 53., 54., 55., 56., 57., 58., 59., 60., 61., 62., 63., 64.,\n",
              "       65., 66., 67., 68., 69., 70., 71., 72., 73., 74., 75., 76., 77.,\n",
              "       78., 79., 80., 81., 82., 83., 84., 85., 86., 87., 88., 89., 90.,\n",
              "       91., 92., 93., 94., 95., 96., 97., 98., 99.])"
            ]
          },
          "metadata": {
            "tags": []
          },
          "execution_count": 62
        }
      ]
    },
    {
      "cell_type": "code",
      "metadata": {
        "colab": {
          "base_uri": "https://localhost:8080/"
        },
        "id": "EbQSLcd-q0nB",
        "outputId": "e0a19783-d347-4d6f-cc35-14291baea15f"
      },
      "source": [
        "import numpy as np\r\n",
        "a = np.array([[0,1,2],[3,4,5],[6,7,8]])\r\n",
        "\r\n",
        "a"
      ],
      "execution_count": 63,
      "outputs": [
        {
          "output_type": "execute_result",
          "data": {
            "text/plain": [
              "array([[0, 1, 2],\n",
              "       [3, 4, 5],\n",
              "       [6, 7, 8]])"
            ]
          },
          "metadata": {
            "tags": []
          },
          "execution_count": 63
        }
      ]
    },
    {
      "cell_type": "code",
      "metadata": {
        "colab": {
          "base_uri": "https://localhost:8080/"
        },
        "id": "VcltG61Aq782",
        "outputId": "8074a1fa-a428-4709-d2d0-3c336303a2d5"
      },
      "source": [
        "a.shape"
      ],
      "execution_count": 64,
      "outputs": [
        {
          "output_type": "execute_result",
          "data": {
            "text/plain": [
              "(3, 3)"
            ]
          },
          "metadata": {
            "tags": []
          },
          "execution_count": 64
        }
      ]
    },
    {
      "cell_type": "code",
      "metadata": {
        "colab": {
          "base_uri": "https://localhost:8080/"
        },
        "id": "AlAtL8goq9f5",
        "outputId": "b2ed7fb7-8bcd-4e07-8df8-a6f3efef09ef"
      },
      "source": [
        "a.ndim"
      ],
      "execution_count": 65,
      "outputs": [
        {
          "output_type": "execute_result",
          "data": {
            "text/plain": [
              "2"
            ]
          },
          "metadata": {
            "tags": []
          },
          "execution_count": 65
        }
      ]
    },
    {
      "cell_type": "code",
      "metadata": {
        "colab": {
          "base_uri": "https://localhost:8080/"
        },
        "id": "EuXWarcBq-fT",
        "outputId": "5cecf9d8-6573-4b57-c4d8-44d2c60b9186"
      },
      "source": [
        "a.dtype"
      ],
      "execution_count": 66,
      "outputs": [
        {
          "output_type": "execute_result",
          "data": {
            "text/plain": [
              "dtype('int64')"
            ]
          },
          "metadata": {
            "tags": []
          },
          "execution_count": 66
        }
      ]
    },
    {
      "cell_type": "code",
      "metadata": {
        "colab": {
          "base_uri": "https://localhost:8080/"
        },
        "id": "2SygJoaWrAQm",
        "outputId": "addd944c-cb0f-4cd5-b7eb-e4d50e675fbd"
      },
      "source": [
        "a.itemsize"
      ],
      "execution_count": 67,
      "outputs": [
        {
          "output_type": "execute_result",
          "data": {
            "text/plain": [
              "8"
            ]
          },
          "metadata": {
            "tags": []
          },
          "execution_count": 67
        }
      ]
    },
    {
      "cell_type": "code",
      "metadata": {
        "colab": {
          "base_uri": "https://localhost:8080/"
        },
        "id": "jvossJHWrFhM",
        "outputId": "1f862693-2f44-4c77-e0a3-b77b5ce55e6e"
      },
      "source": [
        "a.size"
      ],
      "execution_count": 68,
      "outputs": [
        {
          "output_type": "execute_result",
          "data": {
            "text/plain": [
              "9"
            ]
          },
          "metadata": {
            "tags": []
          },
          "execution_count": 68
        }
      ]
    },
    {
      "cell_type": "markdown",
      "metadata": {
        "id": "79YNuMXLrH6N"
      },
      "source": [
        "# 배열 간의 연산"
      ]
    },
    {
      "cell_type": "code",
      "metadata": {
        "colab": {
          "base_uri": "https://localhost:8080/"
        },
        "id": "Mah2GheUrJaV",
        "outputId": "3b633424-d7b6-411c-f836-1482d7f6dadc"
      },
      "source": [
        "arr1 = np.array([[1,2],[3,4],[5,6]])\r\n",
        "arr2 = np.array([[1,1],[1,1], [1,1]])\r\n",
        "\r\n",
        "result = arr1 + arr2\r\n",
        "result"
      ],
      "execution_count": 69,
      "outputs": [
        {
          "output_type": "execute_result",
          "data": {
            "text/plain": [
              "array([[2, 3],\n",
              "       [4, 5],\n",
              "       [6, 7]])"
            ]
          },
          "metadata": {
            "tags": []
          },
          "execution_count": 69
        }
      ]
    },
    {
      "cell_type": "markdown",
      "metadata": {
        "id": "h878KJasrVlK"
      },
      "source": [
        "# 브로드캐스팅"
      ]
    },
    {
      "cell_type": "code",
      "metadata": {
        "colab": {
          "base_uri": "https://localhost:8080/"
        },
        "id": "uaayPdBnrWj8",
        "outputId": "42a2c3d6-455e-4ed5-aa38-6abfb885a625"
      },
      "source": [
        "miles = np.array([1,2,3])\r\n",
        "result = miles * 1.6\r\n",
        "result"
      ],
      "execution_count": 70,
      "outputs": [
        {
          "output_type": "execute_result",
          "data": {
            "text/plain": [
              "array([1.6, 3.2, 4.8])"
            ]
          },
          "metadata": {
            "tags": []
          },
          "execution_count": 70
        }
      ]
    },
    {
      "cell_type": "code",
      "metadata": {
        "colab": {
          "base_uri": "https://localhost:8080/"
        },
        "id": "hPRlIeUhrapC",
        "outputId": "10c59341-57cf-40af-8c50-cf3bd862ea8e"
      },
      "source": [
        "arr1 = np.array([[1,2],[3,4], [5,6]])\r\n",
        "arr2 = np.array([[2,2],[2,2], [2,2]])\r\n",
        "\r\n",
        "result = arr1 * arr2\r\n",
        "result"
      ],
      "execution_count": 71,
      "outputs": [
        {
          "output_type": "execute_result",
          "data": {
            "text/plain": [
              "array([[ 2,  4],\n",
              "       [ 6,  8],\n",
              "       [10, 12]])"
            ]
          },
          "metadata": {
            "tags": []
          },
          "execution_count": 71
        }
      ]
    },
    {
      "cell_type": "code",
      "metadata": {
        "id": "wO86DmThrwWq"
      },
      "source": [
        "#행렬 곱셈\r\n",
        "\r\n",
        "arr1 = np.array([[1,2,3], [4,5,6], [7,8,9]])\r\n",
        "arr2 = np.array([[2,2], [2,2], [2,2]])\r\n",
        "\r\n",
        "result = arr1 @ arr2"
      ],
      "execution_count": 72,
      "outputs": []
    },
    {
      "cell_type": "code",
      "metadata": {
        "colab": {
          "base_uri": "https://localhost:8080/"
        },
        "id": "Mku-P1k_r-Ex",
        "outputId": "800c6076-43fd-43d1-94c8-9aeba684d0f4"
      },
      "source": [
        "result"
      ],
      "execution_count": 73,
      "outputs": [
        {
          "output_type": "execute_result",
          "data": {
            "text/plain": [
              "array([[12, 12],\n",
              "       [30, 30],\n",
              "       [48, 48]])"
            ]
          },
          "metadata": {
            "tags": []
          },
          "execution_count": 73
        }
      ]
    },
    {
      "cell_type": "code",
      "metadata": {
        "colab": {
          "base_uri": "https://localhost:8080/"
        },
        "id": "iuxubkFrr_zJ",
        "outputId": "0424ea44-6420-4572-edc9-ad0ec1b5b2fb"
      },
      "source": [
        "# numpy 배열에 함수 적용 예제\r\n",
        "\r\n",
        "A = np.array([0,1,2,3])\r\n",
        "10 * np.sin(A) #sin() 함수 적용"
      ],
      "execution_count": 75,
      "outputs": [
        {
          "output_type": "execute_result",
          "data": {
            "text/plain": [
              "array([0.        , 8.41470985, 9.09297427, 1.41120008])"
            ]
          },
          "metadata": {
            "tags": []
          },
          "execution_count": 75
        }
      ]
    },
    {
      "cell_type": "code",
      "metadata": {
        "colab": {
          "base_uri": "https://localhost:8080/"
        },
        "id": "KKljIYo9sKsJ",
        "outputId": "74f589bd-1c06-440d-9d10-efd162122ee0"
      },
      "source": [
        "a = np.array([[1,2,3], [4,5,6], [7,8,9]])\r\n",
        "a.sum() #a요소들의 합"
      ],
      "execution_count": 76,
      "outputs": [
        {
          "output_type": "execute_result",
          "data": {
            "text/plain": [
              "45"
            ]
          },
          "metadata": {
            "tags": []
          },
          "execution_count": 76
        }
      ]
    },
    {
      "cell_type": "code",
      "metadata": {
        "colab": {
          "base_uri": "https://localhost:8080/"
        },
        "id": "503ABSqWsZZi",
        "outputId": "e9f0747b-0131-4e9d-d6b6-e3090f34c7b9"
      },
      "source": [
        "a.min()"
      ],
      "execution_count": 77,
      "outputs": [
        {
          "output_type": "execute_result",
          "data": {
            "text/plain": [
              "1"
            ]
          },
          "metadata": {
            "tags": []
          },
          "execution_count": 77
        }
      ]
    },
    {
      "cell_type": "code",
      "metadata": {
        "colab": {
          "base_uri": "https://localhost:8080/"
        },
        "id": "lFOFVMtDsfIA",
        "outputId": "9266dae8-a5ec-443e-8439-c077736da20c"
      },
      "source": [
        "a.max()"
      ],
      "execution_count": 78,
      "outputs": [
        {
          "output_type": "execute_result",
          "data": {
            "text/plain": [
              "9"
            ]
          },
          "metadata": {
            "tags": []
          },
          "execution_count": 78
        }
      ]
    },
    {
      "cell_type": "code",
      "metadata": {
        "colab": {
          "base_uri": "https://localhost:8080/"
        },
        "id": "l4ZCIAalsf3R",
        "outputId": "2bd3fe1c-e6b7-4b78-dda5-34cfef218cab"
      },
      "source": [
        "scores = np.array([[99,93,60], [98,82,93], [93,65,81], [78,82,81]])\r\n",
        "\r\n",
        "scores.mean(axis=0) #axis=0은 열을 의미한다.\r\n",
        "                    # 열에서의 평균을 구한다.\r\n",
        "                  "
      ],
      "execution_count": 79,
      "outputs": [
        {
          "output_type": "execute_result",
          "data": {
            "text/plain": [
              "array([92.  , 80.5 , 78.75])"
            ]
          },
          "metadata": {
            "tags": []
          },
          "execution_count": 79
        }
      ]
    },
    {
      "cell_type": "markdown",
      "metadata": {
        "id": "oflMKG_7txKe"
      },
      "source": [
        "# 인덱싱과 슬라이싱"
      ]
    },
    {
      "cell_type": "code",
      "metadata": {
        "colab": {
          "base_uri": "https://localhost:8080/"
        },
        "id": "joPPwPuptzQd",
        "outputId": "62267a2e-f8f5-4fb7-8086-6f1e55d2358a"
      },
      "source": [
        "grades = np.array([88,72,93,94])\r\n",
        "\r\n",
        "grades[1:3]"
      ],
      "execution_count": 80,
      "outputs": [
        {
          "output_type": "execute_result",
          "data": {
            "text/plain": [
              "array([72, 93])"
            ]
          },
          "metadata": {
            "tags": []
          },
          "execution_count": 80
        }
      ]
    },
    {
      "cell_type": "code",
      "metadata": {
        "colab": {
          "base_uri": "https://localhost:8080/"
        },
        "id": "pfOMUkWVueEl",
        "outputId": "877fd063-b40d-476d-c7c3-5d239cd0605a"
      },
      "source": [
        "grades[:2]"
      ],
      "execution_count": 82,
      "outputs": [
        {
          "output_type": "execute_result",
          "data": {
            "text/plain": [
              "array([88, 72])"
            ]
          },
          "metadata": {
            "tags": []
          },
          "execution_count": 82
        }
      ]
    },
    {
      "cell_type": "code",
      "metadata": {
        "colab": {
          "base_uri": "https://localhost:8080/"
        },
        "id": "rwIg-NXauhsJ",
        "outputId": "560d7f2d-fe22-40d6-ce62-ef842d963b7b"
      },
      "source": [
        "# 논리적인 인덱싱\r\n",
        "\r\n",
        "ages = np.array([18,19,25,30,28])\r\n",
        "\r\n",
        "grades = ages > 20\r\n",
        "grades"
      ],
      "execution_count": 83,
      "outputs": [
        {
          "output_type": "execute_result",
          "data": {
            "text/plain": [
              "array([False, False,  True,  True,  True])"
            ]
          },
          "metadata": {
            "tags": []
          },
          "execution_count": 83
        }
      ]
    },
    {
      "cell_type": "code",
      "metadata": {
        "colab": {
          "base_uri": "https://localhost:8080/"
        },
        "id": "2Z37eflJu7mA",
        "outputId": "7049e9b2-00e8-485c-9c1d-a31242951d48"
      },
      "source": [
        "ages[ ages > 20 ]"
      ],
      "execution_count": 84,
      "outputs": [
        {
          "output_type": "execute_result",
          "data": {
            "text/plain": [
              "array([25, 30, 28])"
            ]
          },
          "metadata": {
            "tags": []
          },
          "execution_count": 84
        }
      ]
    },
    {
      "cell_type": "code",
      "metadata": {
        "colab": {
          "base_uri": "https://localhost:8080/"
        },
        "id": "sY_4YGNNvLzB",
        "outputId": "3586e5ab-b28c-4329-f8cc-e1ba97aa7d9e"
      },
      "source": [
        "a = np.array([[1,2,3], [4,5,6], [7,8,9]])\r\n",
        "\r\n",
        "a[0,2]"
      ],
      "execution_count": 85,
      "outputs": [
        {
          "output_type": "execute_result",
          "data": {
            "text/plain": [
              "3"
            ]
          },
          "metadata": {
            "tags": []
          },
          "execution_count": 85
        }
      ]
    },
    {
      "cell_type": "code",
      "metadata": {
        "colab": {
          "base_uri": "https://localhost:8080/"
        },
        "id": "dbTMPFQrvURY",
        "outputId": "785296e0-5c2d-417b-d50e-eb9db62080ec"
      },
      "source": [
        "a[0,0] = 12\r\n",
        "a"
      ],
      "execution_count": 87,
      "outputs": [
        {
          "output_type": "execute_result",
          "data": {
            "text/plain": [
              "array([[12,  2,  3],\n",
              "       [ 4,  5,  6],\n",
              "       [ 7,  8,  9]])"
            ]
          },
          "metadata": {
            "tags": []
          },
          "execution_count": 87
        }
      ]
    },
    {
      "cell_type": "code",
      "metadata": {
        "colab": {
          "base_uri": "https://localhost:8080/"
        },
        "id": "Umt3n1szvWuS",
        "outputId": "cffa737e-a74d-47d9-98fc-b3d33b570c92"
      },
      "source": [
        "# 2차원 배열의 슬라이싱\r\n",
        "\r\n",
        "a = np.array([[1,2,3], [4,5,6], [7,8,9]])\r\n",
        "\r\n",
        "a[0:2, 1:3]"
      ],
      "execution_count": 88,
      "outputs": [
        {
          "output_type": "execute_result",
          "data": {
            "text/plain": [
              "array([[2, 3],\n",
              "       [5, 6]])"
            ]
          },
          "metadata": {
            "tags": []
          },
          "execution_count": 88
        }
      ]
    },
    {
      "cell_type": "code",
      "metadata": {
        "colab": {
          "base_uri": "https://localhost:8080/"
        },
        "id": "tSw2RBt8vdzA",
        "outputId": "0833acea-8fdc-41b8-a922-e91fa243b8a9"
      },
      "source": [
        "a[::2, ::2]"
      ],
      "execution_count": 89,
      "outputs": [
        {
          "output_type": "execute_result",
          "data": {
            "text/plain": [
              "array([[1, 3],\n",
              "       [7, 9]])"
            ]
          },
          "metadata": {
            "tags": []
          },
          "execution_count": 89
        }
      ]
    },
    {
      "cell_type": "code",
      "metadata": {
        "id": "PV2uQAvKvqBs"
      },
      "source": [
        "#reshape() 함수\r\n",
        "\r\n",
        "# new_array = old_array.reshape((3,4))\r\n",
        "#새로운 배열, 원래의배열, 배열의 차원 >의 순서\r\n",
        "\r\n",
        "a = np.arange(12)\r\n",
        "\r\n",
        "\r\n"
      ],
      "execution_count": 90,
      "outputs": []
    },
    {
      "cell_type": "code",
      "metadata": {
        "colab": {
          "base_uri": "https://localhost:8080/"
        },
        "id": "N-WHFSfnwMxY",
        "outputId": "6b3c1898-ab10-407e-944f-492c88922fb7"
      },
      "source": [
        "a"
      ],
      "execution_count": 91,
      "outputs": [
        {
          "output_type": "execute_result",
          "data": {
            "text/plain": [
              "array([ 0,  1,  2,  3,  4,  5,  6,  7,  8,  9, 10, 11])"
            ]
          },
          "metadata": {
            "tags": []
          },
          "execution_count": 91
        }
      ]
    },
    {
      "cell_type": "code",
      "metadata": {
        "colab": {
          "base_uri": "https://localhost:8080/"
        },
        "id": "_cUwtM_9wOLY",
        "outputId": "51f517f0-2f15-4b57-ba0b-68c867c75607"
      },
      "source": [
        "a.reshape(3,4) #본래 1차원배열인 a이지만 2차원으로 reshape()함수를 하면\r\n",
        "                # 2차원배열로 바뀌어 출력"
      ],
      "execution_count": 92,
      "outputs": [
        {
          "output_type": "execute_result",
          "data": {
            "text/plain": [
              "array([[ 0,  1,  2,  3],\n",
              "       [ 4,  5,  6,  7],\n",
              "       [ 8,  9, 10, 11]])"
            ]
          },
          "metadata": {
            "tags": []
          },
          "execution_count": 92
        }
      ]
    },
    {
      "cell_type": "code",
      "metadata": {
        "colab": {
          "base_uri": "https://localhost:8080/"
        },
        "id": "Qf2jSoXDwWPr",
        "outputId": "e59ca283-198b-4792-c9b0-eab52ae4a61c"
      },
      "source": [
        "a.reshape(6, -1)"
      ],
      "execution_count": 93,
      "outputs": [
        {
          "output_type": "execute_result",
          "data": {
            "text/plain": [
              "array([[ 0,  1],\n",
              "       [ 2,  3],\n",
              "       [ 4,  5],\n",
              "       [ 6,  7],\n",
              "       [ 8,  9],\n",
              "       [10, 11]])"
            ]
          },
          "metadata": {
            "tags": []
          },
          "execution_count": 93
        }
      ]
    },
    {
      "cell_type": "code",
      "metadata": {
        "colab": {
          "base_uri": "https://localhost:8080/"
        },
        "id": "WMNethwbwbJ3",
        "outputId": "546c7c33-cb10-4eee-8e5f-a2234393bcfb"
      },
      "source": [
        "#균일 분포에서 난수 생성하기\r\n",
        "\r\n",
        "np.random.seed(100)\r\n",
        "np.random.rand(5)\r\n"
      ],
      "execution_count": 94,
      "outputs": [
        {
          "output_type": "execute_result",
          "data": {
            "text/plain": [
              "array([0.54340494, 0.27836939, 0.42451759, 0.84477613, 0.00471886])"
            ]
          },
          "metadata": {
            "tags": []
          },
          "execution_count": 94
        }
      ]
    },
    {
      "cell_type": "code",
      "metadata": {
        "colab": {
          "base_uri": "https://localhost:8080/"
        },
        "id": "HyMFt26kwlLf",
        "outputId": "1c5bf48e-7087-4fca-8217-d265e9429a4f"
      },
      "source": [
        "np.random.rand(5,3)"
      ],
      "execution_count": 95,
      "outputs": [
        {
          "output_type": "execute_result",
          "data": {
            "text/plain": [
              "array([[0.12156912, 0.67074908, 0.82585276],\n",
              "       [0.13670659, 0.57509333, 0.89132195],\n",
              "       [0.20920212, 0.18532822, 0.10837689],\n",
              "       [0.21969749, 0.97862378, 0.81168315],\n",
              "       [0.17194101, 0.81622475, 0.27407375]])"
            ]
          },
          "metadata": {
            "tags": []
          },
          "execution_count": 95
        }
      ]
    },
    {
      "cell_type": "code",
      "metadata": {
        "colab": {
          "base_uri": "https://localhost:8080/"
        },
        "id": "uiDxm9cewmpX",
        "outputId": "abb8d078-0bd9-440a-e379-3c87c40ce11c"
      },
      "source": [
        "#정규분포에서 난수 생성하기\r\n",
        "\r\n",
        "np.random.randn(5)"
      ],
      "execution_count": 96,
      "outputs": [
        {
          "output_type": "execute_result",
          "data": {
            "text/plain": [
              "array([ 0.67272081, -0.10441114, -0.53128038,  1.02973269, -0.43813562])"
            ]
          },
          "metadata": {
            "tags": []
          },
          "execution_count": 96
        }
      ]
    },
    {
      "cell_type": "code",
      "metadata": {
        "colab": {
          "base_uri": "https://localhost:8080/"
        },
        "id": "jMlMtpfwwq3f",
        "outputId": "254aa238-c3f3-4d6f-ea8f-aeddf710adc6"
      },
      "source": [
        "np.random.randn(5,4)"
      ],
      "execution_count": 97,
      "outputs": [
        {
          "output_type": "execute_result",
          "data": {
            "text/plain": [
              "array([[-1.11831825,  1.61898166,  1.54160517, -0.25187914],\n",
              "       [-0.84243574,  0.18451869,  0.9370822 ,  0.73100034],\n",
              "       [ 1.36155613, -0.32623806,  0.05567601,  0.22239961],\n",
              "       [-1.443217  , -0.75635231,  0.81645401,  0.75044476],\n",
              "       [-0.45594693,  1.18962227, -1.69061683, -1.35639905]])"
            ]
          },
          "metadata": {
            "tags": []
          },
          "execution_count": 97
        }
      ]
    },
    {
      "cell_type": "code",
      "metadata": {
        "id": "4pwyUXlDwsjH"
      },
      "source": [
        "m, sigma = 10,2"
      ],
      "execution_count": 98,
      "outputs": []
    },
    {
      "cell_type": "code",
      "metadata": {
        "colab": {
          "base_uri": "https://localhost:8080/"
        },
        "id": "APS1-PqZwvGn",
        "outputId": "72a4c720-f239-4251-f525-527558eacb4a"
      },
      "source": [
        "m + sigma * np.random.randn(5)"
      ],
      "execution_count": 99,
      "outputs": [
        {
          "output_type": "execute_result",
          "data": {
            "text/plain": [
              "array([ 7.53513097,  8.91112168,  8.66365653, 10.01462913,  8.77412253])"
            ]
          },
          "metadata": {
            "tags": []
          },
          "execution_count": 99
        }
      ]
    },
    {
      "cell_type": "code",
      "metadata": {
        "colab": {
          "base_uri": "https://localhost:8080/"
        },
        "id": "BWooSeYGwxgo",
        "outputId": "cd0b373e-5397-4c43-eb47-f15759c18bad"
      },
      "source": [
        "mu, sigma = 0, 0.1 #평균과 표준편차를 의미\r\n",
        "\r\n",
        "np.random.normal(mu,sigma, 5)\r\n",
        "\r\n",
        "# ex) a = np.random.normal(loc=0.0, scale=1.0, size=None) \r\n",
        "# 순서대로 loc = 평균 / scale = 표준편차 / size = 배열의 차원"
      ],
      "execution_count": 100,
      "outputs": [
        {
          "output_type": "execute_result",
          "data": {
            "text/plain": [
              "array([ 0.12997481, -0.17330956, -0.09833101,  0.03575078, -0.16135785])"
            ]
          },
          "metadata": {
            "tags": []
          },
          "execution_count": 100
        }
      ]
    },
    {
      "cell_type": "code",
      "metadata": {
        "colab": {
          "base_uri": "https://localhost:8080/"
        },
        "id": "5NzDoTOsw5fA",
        "outputId": "12495d75-2ea1-42a5-ba31-d1d52923b32b"
      },
      "source": [
        "# 전치행렬 계산하기\r\n",
        "\r\n",
        "import numpy as np\r\n",
        "\r\n",
        "arr = np.array([[1,2],[3,4],[5,6]])\r\n",
        "\r\n",
        "print(arr.T)"
      ],
      "execution_count": 101,
      "outputs": [
        {
          "output_type": "stream",
          "text": [
            "[[1 3 5]\n",
            " [2 4 6]]\n"
          ],
          "name": "stdout"
        }
      ]
    },
    {
      "cell_type": "code",
      "metadata": {
        "colab": {
          "base_uri": "https://localhost:8080/"
        },
        "id": "ItPt1GuRxTOo",
        "outputId": "364ebfd2-07ed-450f-dc6e-b3f9d9918ee4"
      },
      "source": [
        "print(arr)"
      ],
      "execution_count": 102,
      "outputs": [
        {
          "output_type": "stream",
          "text": [
            "[[1 2]\n",
            " [3 4]\n",
            " [5 6]]\n"
          ],
          "name": "stdout"
        }
      ]
    },
    {
      "cell_type": "code",
      "metadata": {
        "id": "Ef6EfwkDxWF4"
      },
      "source": [
        ""
      ],
      "execution_count": null,
      "outputs": []
    }
  ]
}
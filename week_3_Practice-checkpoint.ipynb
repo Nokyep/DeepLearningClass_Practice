{
 "cells": [
  {
   "cell_type": "code",
   "execution_count": 2,
   "metadata": {},
   "outputs": [],
   "source": [
    "# 딥러닝 3주차 수업 실습 내용 "
   ]
  },
  {
   "cell_type": "code",
   "execution_count": 1,
   "metadata": {},
   "outputs": [],
   "source": [
    "# 리스트"
   ]
  },
  {
   "cell_type": "code",
   "execution_count": 2,
   "metadata": {},
   "outputs": [
    {
     "name": "stdout",
     "output_type": "stream",
     "text": [
      "hello list\n"
     ]
    }
   ],
   "source": [
    "my_list = [10, 'hello list', 20]\n",
    "print(my_list[1])"
   ]
  },
  {
   "cell_type": "code",
   "execution_count": 7,
   "metadata": {},
   "outputs": [
    {
     "name": "stdout",
     "output_type": "stream",
     "text": [
      "10\n"
     ]
    }
   ],
   "source": [
    "print(my_list[0])"
   ]
  },
  {
   "cell_type": "code",
   "execution_count": 8,
   "metadata": {},
   "outputs": [
    {
     "name": "stdout",
     "output_type": "stream",
     "text": [
      "50\n"
     ]
    }
   ],
   "source": [
    "my_list_2 = [[10,20,30], [40,50,60]]\n",
    "print(my_list_2[1][1]) # 3x3 행렬의 가운데 값 출력"
   ]
  },
  {
   "cell_type": "code",
   "execution_count": 10,
   "metadata": {},
   "outputs": [
    {
     "name": "stdout",
     "output_type": "stream",
     "text": [
      "1.18.5\n"
     ]
    }
   ],
   "source": [
    "import numpy as np\n",
    "print(np.__version__)"
   ]
  },
  {
   "cell_type": "code",
   "execution_count": 12,
   "metadata": {},
   "outputs": [
    {
     "name": "stdout",
     "output_type": "stream",
     "text": [
      "[[10 20 30]\n",
      " [40 50 60]]\n"
     ]
    }
   ],
   "source": [
    "my_arr = np.array([[10,20,30], [40,50,60]])\n",
    "print(my_arr)"
   ]
  },
  {
   "cell_type": "code",
   "execution_count": 14,
   "metadata": {},
   "outputs": [
    {
     "data": {
      "text/plain": [
       "numpy.ndarray"
      ]
     },
     "execution_count": 14,
     "metadata": {},
     "output_type": "execute_result"
    }
   ],
   "source": [
    "type(my_arr)"
   ]
  },
  {
   "cell_type": "code",
   "execution_count": 16,
   "metadata": {},
   "outputs": [
    {
     "data": {
      "text/plain": [
       "30"
      ]
     },
     "execution_count": 16,
     "metadata": {},
     "output_type": "execute_result"
    }
   ],
   "source": [
    "my_arr[0][2]"
   ]
  },
  {
   "cell_type": "code",
   "execution_count": 17,
   "metadata": {},
   "outputs": [
    {
     "data": {
      "text/plain": [
       "210"
      ]
     },
     "execution_count": 17,
     "metadata": {},
     "output_type": "execute_result"
    }
   ],
   "source": [
    "np.sum(my_arr) # 모든 원소 값을 더함"
   ]
  },
  {
   "cell_type": "code",
   "execution_count": 18,
   "metadata": {},
   "outputs": [
    {
     "name": "stdout",
     "output_type": "stream",
     "text": [
      "40\n"
     ]
    }
   ],
   "source": [
    "print(my_arr[1][0]) #my_arr의 두번째 행 첫번째 원소 출력하기"
   ]
  },
  {
   "cell_type": "code",
   "execution_count": 19,
   "metadata": {},
   "outputs": [
    {
     "name": "stdout",
     "output_type": "stream",
     "text": [
      "[40 50 60]\n"
     ]
    }
   ],
   "source": [
    "print(my_arr[1]) # 두번째행만 출력"
   ]
  },
  {
   "cell_type": "code",
   "execution_count": 20,
   "metadata": {},
   "outputs": [],
   "source": [
    "import matplotlib.pyplot as plt"
   ]
  },
  {
   "cell_type": "code",
   "execution_count": 21,
   "metadata": {},
   "outputs": [
    {
     "data": {
      "image/png": "[encoded data removed]",
      "text/plain": [
       "<Figure size 432x288 with 1 Axes>"
      ]
     },
     "metadata": {
      "needs_background": "light"
     },
     "output_type": "display_data"
    }
   ],
   "source": [
    "plt.plot([1,2,3,4,5],[1,4,9,16,25])\n",
    "plt.show()"
   ]
  },
  {
   "cell_type": "code",
   "execution_count": 22,
   "metadata": {},
   "outputs": [
    {
     "data": {
      "image/png": "[encoded data removed]",
      "text/plain": [
       "<Figure size 432x288 with 1 Axes>"
      ]
     },
     "metadata": {
      "needs_background": "light"
     },
     "output_type": "display_data"
    }
   ],
   "source": [
    "plt.scatter([1,2,3,4,5],[1,4,9,16,25])\n",
    "plt.show()"
   ]
  },
  {
   "cell_type": "code",
   "execution_count": null,
   "metadata": {},
   "outputs": [],
   "source": []
  },
  {
   "cell_type": "code",
   "execution_count": 26,
   "metadata": {},
   "outputs": [],
   "source": [
    "from sklearn.datasets import load_diabetes #사이킷런 = 딥러닝 하기 전엔 필요\n",
    "diabetes = load_diabetes()"
   ]
  },
  {
   "cell_type": "code",
   "execution_count": 27,
   "metadata": {},
   "outputs": [
    {
     "name": "stdout",
     "output_type": "stream",
     "text": [
      "(442, 10) (442,)\n"
     ]
    }
   ],
   "source": [
    "print(diabetes.data.shape, diabetes.target.shape) #shape 속성으로 데이터 살펴보기 \n",
    "\n",
    "#data = 실제 데이터값\n",
    "#target = 당뇨병 수치값\n",
    "\n",
    "# [,,] = 리스트\n",
    "# (,,) = 튜플\n",
    "# {,,} = 세트\n",
    "# {k:v, k1:v1,...} = 딕셔너리"
   ]
  },
  {
   "cell_type": "code",
   "execution_count": 28,
   "metadata": {},
   "outputs": [
    {
     "data": {
      "text/plain": [
       "int"
      ]
     },
     "execution_count": 28,
     "metadata": {},
     "output_type": "execute_result"
    }
   ],
   "source": [
    "type(442) # 위 diabetes shape속성을 출력하였을때 나오는 결과값은 튜플이다. 튜플이 (442,)로 표시되는 이유"
   ]
  },
  {
   "cell_type": "code",
   "execution_count": 29,
   "metadata": {},
   "outputs": [
    {
     "data": {
      "text/plain": [
       "array([[ 0.03807591,  0.05068012,  0.06169621,  0.02187235, -0.0442235 ,\n",
       "        -0.03482076, -0.04340085, -0.00259226,  0.01990842, -0.01764613],\n",
       "       [-0.00188202, -0.04464164, -0.05147406, -0.02632783, -0.00844872,\n",
       "        -0.01916334,  0.07441156, -0.03949338, -0.06832974, -0.09220405],\n",
       "       [ 0.08529891,  0.05068012,  0.04445121, -0.00567061, -0.04559945,\n",
       "        -0.03419447, -0.03235593, -0.00259226,  0.00286377, -0.02593034]])"
      ]
     },
     "execution_count": 29,
     "metadata": {},
     "output_type": "execute_result"
    }
   ],
   "source": [
    "diabetes.data[0:3] # 2차원배열에서 첫번째, 두번째, 세번째 샘플로 구성되어있음 - > [ ]로 구분\n",
    "\n",
    "# 0,1,2 샘플 3개 출력해보았음"
   ]
  },
  {
   "cell_type": "code",
   "execution_count": 30,
   "metadata": {},
   "outputs": [
    {
     "data": {
      "text/plain": [
       "array([151.,  75., 141.])"
      ]
     },
     "execution_count": 30,
     "metadata": {},
     "output_type": "execute_result"
    }
   ],
   "source": [
    "diabetes.target[:3] "
   ]
  },
  {
   "cell_type": "code",
   "execution_count": 31,
   "metadata": {},
   "outputs": [
    {
     "data": {
      "text/plain": [
       "array([151.,  75., 141.])"
      ]
     },
     "execution_count": 31,
     "metadata": {},
     "output_type": "execute_result"
    }
   ],
   "source": [
    "diabetes.target[0:3] # 타겟데이터 출력 [0:3]과 [:3]은 같은 의미임"
   ]
  },
  {
   "cell_type": "code",
   "execution_count": 32,
   "metadata": {},
   "outputs": [
    {
     "data": {
      "image/png": "[encoded data removed]",
      "text/plain": [
       "<Figure size 432x288 with 1 Axes>"
      ]
     },
     "metadata": {
      "needs_background": "light"
     },
     "output_type": "display_data"
    }
   ],
   "source": [
    "#data속성에 있는 데이터 시각화하기\n",
    "\n",
    "import matplotlib.pyplot as plt\n",
    "plt.scatter(diabetes.data[:,2], diabetes.target)\n",
    "plt.xlabel('x')\n",
    "plt.ylabel('y')\n",
    "\n",
    "plt.show()"
   ]
  },
  {
   "cell_type": "code",
   "execution_count": 33,
   "metadata": {},
   "outputs": [],
   "source": [
    "# 훈련 데이터 준비하기\n",
    "\n",
    "x = diabetes.data[:,2] # 이 특징정보를 x에 넣고\n",
    "y = diabetes.target # 모든 타겟정보에 대해서 y에 넣음\n",
    "\n",
    "#10 x 442 데이터에서 \n",
    "#특정 부분 타겟데이터를 불러와 훈련데이터로 사용"
   ]
  },
  {
   "cell_type": "code",
   "execution_count": 34,
   "metadata": {},
   "outputs": [
    {
     "name": "stdout",
     "output_type": "stream",
     "text": [
      "[-0.06440781  0.01750591 -0.04500719  0.02828403  0.04121778  0.06492964\n",
      " -0.03207344 -0.07626374  0.04984027  0.04552903] (10,)\n"
     ]
    }
   ],
   "source": [
    "x_sample = x[99:109]\n",
    "print(x_sample, x_sample.shape)"
   ]
  },
  {
   "cell_type": "code",
   "execution_count": 37,
   "metadata": {},
   "outputs": [],
   "source": [
    "# 경사하강법에 대해 알아보기\n",
    "\n",
    "w = 1.0\n",
    "b = 1.0"
   ]
  },
  {
   "cell_type": "code",
   "execution_count": 38,
   "metadata": {},
   "outputs": [
    {
     "name": "stdout",
     "output_type": "stream",
     "text": [
      "[1.00380642 0.99682425 1.00274247 0.99928463 0.9977552  0.99748921\n",
      " 0.99709023 0.9998831  1.00380642 1.00240999 0.99482934 1.00108005\n",
      " 0.99822068 0.9998831  0.99842017 0.99888565 1.00260948 1.00074756\n",
      " 0.99935113 0.99888565 0.99649176 0.99861966 0.99975011 1.00373992\n",
      " 1.0022105  0.99921813 0.99522832 1.00367343 0.99868616 0.99961712\n",
      " 1.00274247 0.99595979 1.00772974 0.99689074 0.99609278 0.99808769\n",
      " 1.00141253 1.00068107 1.00440489 1.00088056 0.99948412 0.99582679\n",
      " 0.99935113 0.99855317 1.0042054  0.9978217  0.99928463 0.99549431\n",
      " 0.99742272 1.00088056 0.99955062 1.00101355 0.99941763 0.99901864\n",
      " 1.00154553 0.99695724 1.00254298 0.99609278 0.99602628 0.99842017\n",
      " 0.99975011 1.00028209 0.99955062 0.99768871 0.99842017 0.99848667\n",
      " 0.99888565 0.99908514 0.99815418 0.99715673 0.9956938  1.0020775\n",
      " 0.99975011 0.99875266 1.00014909 0.99808769 1.00174502 0.9977552\n",
      " 0.99642526 0.99768871 1.00074756 0.99861966 0.9978217  1.00061457\n",
      " 0.99755571 1.00440489 0.99536131 0.99961712 0.99748921 0.99702374\n",
      " 0.99842017 1.00320795 1.00028209 0.99602628 0.99895215 0.99642526\n",
      " 1.00061457 1.00546884 0.99968361 0.99602628 1.00108005 0.99722323\n",
      " 1.00174502 1.00254298 1.00400591 0.99802119 0.99529482 1.00307496\n",
      " 1.00280897 0.99941763 0.99802119 1.00028209 1.00127954 1.00088056\n",
      " 1.00679878 1.00008259 1.00360693 0.99868616 0.99935113 0.99709023\n",
      " 1.00028209 1.00108005 1.00500337 1.002144   1.00147903 0.99948412\n",
      " 0.99622577 0.9998831  0.99615928 1.00101355 1.00593432 0.9956938\n",
      " 0.99868616 0.99669125 1.00267597 1.00347394 0.99496233 1.00307496\n",
      " 1.00686528 1.00380642 1.00088056 1.00294196 1.00074756 1.00034858\n",
      " 1.00287547 1.00792923 1.00367343 1.00573483 1.00094705 0.99968361\n",
      " 1.0043384  0.99975011 0.9999496  0.99728972 1.00127954 1.00373992\n",
      " 0.99935113 0.99795469 0.99595979 1.00267597 0.99615928 1.00393942\n",
      " 1.00187801 1.00447139 0.99881915 0.99589329 0.99629227 1.0042719\n",
      " 1.00367343 0.99835367 0.99875266 0.99715673 1.00440489 0.99509533\n",
      " 1.00061457 0.99762221 1.00121304 1.00167852 0.99948412 0.99901864\n",
      " 1.00028209 0.99735622 1.00034858 0.9978217  1.00147903 0.99888565\n",
      " 1.00260948 0.99662475 0.99981661 0.99589329 0.99921813 0.99742272\n",
      " 0.99808769 0.99968361 0.99635877 1.00154553 0.99715673 1.00021559\n",
      " 1.00334094 0.99722323 0.99642526 0.99655826 1.00008259 1.00187801\n",
      " 1.00041508 1.00287547 1.00161202 1.00280897 1.00247648 0.99888565\n",
      " 1.00088056 1.00227699 1.00021559 0.9956273  0.99795469 1.00580133\n",
      " 1.0022105  1.00194451 0.99595979 0.99742272 0.99755571 0.99762221\n",
      " 0.99842017 0.99855317 0.99589329 1.00201101 0.99715673 0.99815418\n",
      " 0.99921813 0.99901864 1.00440489 0.99808769 1.0000161  1.00227699\n",
      " 1.00240999 0.99908514 1.00041508 0.9957603  0.99941763 1.00121304\n",
      " 1.00460438 0.99948412 0.99855317 0.99715673 1.00334094 0.9978217\n",
      " 0.99802119 0.99496233 1.00294196 1.00373992 1.00347394 1.00606732\n",
      " 1.00367343 1.0020775  1.00347394 0.99595979 1.00992414 0.99655826\n",
      " 0.99848667 0.9977552  0.99948412 0.99742272 1.00786273 0.99522832\n",
      " 1.00174502 0.99842017 0.99615928 0.9999496  1.00546884 0.99802119\n",
      " 1.00187801 1.00054807 1.00041508 0.99875266 0.99848667 0.99928463\n",
      " 1.00161202 0.99635877 0.9977552  0.99848667 1.00114655 0.99443036\n",
      " 0.99968361 0.99675775 0.99861966 0.99875266 0.99662475 0.99961712\n",
      " 0.99895215 1.00340744 1.00473738 1.00114655 0.99861966 1.00573483\n",
      " 0.99808769 1.00240999 0.99622577 0.99948412 0.99768871 0.99915164\n",
      " 1.00453789 0.99848667 1.0020775  1.002144   0.99762221 0.99755571\n",
      " 0.9998831  0.99808769 0.99715673 1.00008259 1.00400591 1.00247648\n",
      " 0.99855317 1.00327445 1.00247648 0.99875266 1.00088056 0.9978882\n",
      " 1.00041508 1.00028209 1.00187801 1.00320795 1.00380642 0.99955062\n",
      " 1.00034858 1.00334094 0.99948412 1.00706477 1.00413891 0.99655826\n",
      " 1.00187801 0.99842017 1.0064663  0.99961712 0.99709023 0.99702374\n",
      " 1.00526935 0.99921813 0.99795469 0.99955062 0.99915164 1.00367343\n",
      " 1.00134604 1.00114655 0.99928463 0.99981661 1.00108005 0.99815418\n",
      " 0.99875266 0.99642526 1.00373992 0.99748921 0.9955608  0.99655826\n",
      " 1.00280897 0.99941763 0.99795469 1.00307496 0.99476284 1.00034858\n",
      " 1.00127954 0.99955062 1.0064663  0.99848667 0.99961712 0.99762221\n",
      " 1.00846121 1.01052261 1.00014909 1.00234349 0.99642526 0.99941763\n",
      " 0.99855317 0.99935113 0.9978882  0.99981661 1.0042054  1.00061457\n",
      " 1.00014909 0.99762221 1.00161202 0.99449685 1.00373992 0.99822068\n",
      " 0.99815418 0.99881915 0.99748921 1.00094705 0.99848667 1.00008259\n",
      " 1.0042719  0.9956938  0.99815418 0.99715673 1.00114655 1.00008259\n",
      " 0.99808769 0.99975011 1.00094705 1.00141253 1.00280897 0.99722323\n",
      " 0.99795469 1.00600082 1.00334094 1.00759675 0.99502883 1.00573483\n",
      " 0.99689074 0.99928463 0.99828718 1.00360693 1.00526935 0.9999496\n",
      " 1.00041508 1.00054807 1.00493687 1.00440489 0.99848667 0.99662475\n",
      " 0.9977552  1.00101355 1.00480388 0.99755571 1.00068107 0.99748921\n",
      " 0.9978882  1.00034858 1.00546884 0.99795469 0.99649176 0.99808769\n",
      " 1.00340744 0.99629227 1.00008259 0.99855317 0.99542781 1.00121304\n",
      " 0.99901864 0.99901864 1.00240999 0.99549431]\n"
     ]
    }
   ],
   "source": [
    "y_hat = x[0] * x + b\n",
    "print(y_hat)"
   ]
  },
  {
   "cell_type": "code",
   "execution_count": 39,
   "metadata": {},
   "outputs": [
    {
     "name": "stdout",
     "output_type": "stream",
     "text": [
      "151.0\n"
     ]
    }
   ],
   "source": [
    "print(y[0]) # y의 실제값 위의 결과랑은 차이가 있는 것을 확인 가능"
   ]
  },
  {
   "cell_type": "code",
   "execution_count": 40,
   "metadata": {},
   "outputs": [
    {
     "name": "stdout",
     "output_type": "stream",
     "text": [
      "1.0678658271705574\n"
     ]
    }
   ],
   "source": [
    "w_inc = w + 0.1\n",
    "y_hat_inc = w_inc * x[0] + b\n",
    "print(y_hat_inc) # 1.061.. 에서 1.067 로 151에 가깝게 오른것을 확인 가능"
   ]
  },
  {
   "cell_type": "code",
   "execution_count": 41,
   "metadata": {},
   "outputs": [
    {
     "name": "stdout",
     "output_type": "stream",
     "text": [
      "[0.64059405 0.71041581 0.65123356 0.68581196 0.70110625 0.70376612\n",
      " 0.70775594 0.67982723 0.64059405 0.65455841 0.73036489 0.66785779\n",
      " 0.69645146 0.67982723 0.69445655 0.68980177 0.6525635  0.67118263\n",
      " 0.68514699 0.68980177 0.71374066 0.69246165 0.68115717 0.64125902\n",
      " 0.65655331 0.68647692 0.72637507 0.64192399 0.69179668 0.68248711\n",
      " 0.65123356 0.71906041 0.60136087 0.70975085 0.71773048 0.6977814\n",
      " 0.66453294 0.6718476  0.63460933 0.6698527  0.68381705 0.72039035\n",
      " 0.68514699 0.69312662 0.63660424 0.70044128 0.68581196 0.7237152\n",
      " 0.70443109 0.6698527  0.68315208 0.66852276 0.68448202 0.68847183\n",
      " 0.663203   0.70908588 0.65322847 0.71773048 0.71839544 0.69445655\n",
      " 0.68115717 0.67583742 0.68315208 0.70177122 0.69445655 0.69379159\n",
      " 0.68980177 0.68780686 0.69711643 0.70709097 0.72172029 0.65788325\n",
      " 0.68115717 0.69113171 0.67716736 0.6977814  0.6612081  0.70110625\n",
      " 0.71440563 0.70177122 0.67118263 0.69246165 0.70044128 0.67251257\n",
      " 0.70310115 0.63460933 0.72504514 0.68248711 0.70376612 0.70842091\n",
      " 0.69445655 0.64657878 0.67583742 0.71839544 0.6891368  0.71440563\n",
      " 0.67251257 0.62396982 0.68182214 0.71839544 0.66785779 0.706426\n",
      " 0.6612081  0.65322847 0.63859915 0.69844637 0.72571011 0.64790871\n",
      " 0.65056859 0.68448202 0.69844637 0.67583742 0.66586288 0.6698527\n",
      " 0.61067044 0.67783233 0.64258896 0.69179668 0.68514699 0.70775594\n",
      " 0.67583742 0.66785779 0.62862461 0.65721828 0.66386797 0.68381705\n",
      " 0.71640054 0.67982723 0.71706551 0.66852276 0.61931504 0.72172029\n",
      " 0.69179668 0.71174575 0.65189853 0.6439189  0.72903495 0.64790871\n",
      " 0.61000547 0.64059405 0.6698527  0.64923865 0.67118263 0.67517245\n",
      " 0.64990362 0.59936596 0.64192399 0.62130995 0.66918773 0.68182214\n",
      " 0.6352743  0.68115717 0.67916226 0.70576103 0.66586288 0.64125902\n",
      " 0.68514699 0.69911134 0.71906041 0.65189853 0.71706551 0.63926411\n",
      " 0.65987816 0.63394436 0.69046674 0.71972538 0.71573557 0.63593927\n",
      " 0.64192399 0.69512152 0.69113171 0.70709097 0.63460933 0.72770501\n",
      " 0.67251257 0.70243618 0.66652785 0.66187307 0.68381705 0.68847183\n",
      " 0.67583742 0.70509606 0.67517245 0.70044128 0.66386797 0.68980177\n",
      " 0.6525635  0.71241072 0.6804922  0.71972538 0.68647692 0.70443109\n",
      " 0.6977814  0.68182214 0.7150706  0.663203   0.70709097 0.67650239\n",
      " 0.64524884 0.706426   0.71440563 0.71307569 0.67783233 0.65987816\n",
      " 0.67450748 0.64990362 0.66253804 0.65056859 0.65389344 0.68980177\n",
      " 0.6698527  0.65588834 0.67650239 0.72238526 0.69911134 0.62064498\n",
      " 0.65655331 0.65921319 0.71906041 0.70443109 0.70310115 0.70243618\n",
      " 0.69445655 0.69312662 0.71972538 0.65854822 0.70709097 0.69711643\n",
      " 0.68647692 0.68847183 0.63460933 0.6977814  0.6784973  0.65588834\n",
      " 0.65455841 0.68780686 0.67450748 0.72105532 0.68448202 0.66652785\n",
      " 0.63261442 0.68381705 0.69312662 0.70709097 0.64524884 0.70044128\n",
      " 0.69844637 0.72903495 0.64923865 0.64125902 0.6439189  0.6179851\n",
      " 0.64192399 0.65788325 0.6439189  0.71906041 0.57941689 0.71307569\n",
      " 0.69379159 0.70110625 0.68381705 0.70443109 0.60003093 0.72637507\n",
      " 0.6612081  0.69445655 0.71706551 0.67916226 0.62396982 0.69844637\n",
      " 0.65987816 0.67317754 0.67450748 0.69113171 0.69379159 0.68581196\n",
      " 0.66253804 0.7150706  0.70110625 0.69379159 0.66719282 0.7343547\n",
      " 0.68182214 0.71108078 0.69246165 0.69113171 0.71241072 0.68248711\n",
      " 0.6891368  0.64458387 0.63128448 0.66719282 0.69246165 0.62130995\n",
      " 0.6977814  0.65455841 0.71640054 0.68381705 0.70177122 0.68714189\n",
      " 0.63327939 0.69379159 0.65788325 0.65721828 0.70243618 0.70310115\n",
      " 0.67982723 0.6977814  0.70709097 0.67783233 0.63859915 0.65389344\n",
      " 0.69312662 0.64591381 0.65389344 0.69113171 0.6698527  0.69977631\n",
      " 0.67450748 0.67583742 0.65987816 0.64657878 0.64059405 0.68315208\n",
      " 0.67517245 0.64524884 0.68381705 0.60801056 0.63726921 0.71307569\n",
      " 0.65987816 0.69445655 0.61399529 0.68248711 0.70775594 0.70842091\n",
      " 0.62596473 0.68647692 0.69911134 0.68315208 0.68714189 0.64192399\n",
      " 0.66519791 0.66719282 0.68581196 0.6804922  0.66785779 0.69711643\n",
      " 0.69113171 0.71440563 0.64125902 0.70376612 0.72305023 0.71307569\n",
      " 0.65056859 0.68448202 0.69911134 0.64790871 0.73102986 0.67517245\n",
      " 0.66586288 0.68315208 0.61399529 0.69379159 0.68248711 0.70243618\n",
      " 0.59404621 0.57343217 0.67716736 0.65522337 0.71440563 0.68448202\n",
      " 0.69312662 0.68514699 0.69977631 0.6804922  0.63660424 0.67251257\n",
      " 0.67716736 0.70243618 0.66253804 0.73368974 0.64125902 0.69645146\n",
      " 0.69711643 0.69046674 0.70376612 0.66918773 0.69379159 0.67783233\n",
      " 0.63593927 0.72172029 0.69711643 0.70709097 0.66719282 0.67783233\n",
      " 0.6977814  0.68115717 0.66918773 0.66453294 0.65056859 0.706426\n",
      " 0.69911134 0.61865007 0.64524884 0.60269081 0.72836998 0.62130995\n",
      " 0.70975085 0.68581196 0.69578649 0.64258896 0.62596473 0.67916226\n",
      " 0.67450748 0.67317754 0.62928958 0.63460933 0.69379159 0.71241072\n",
      " 0.70110625 0.66852276 0.63061952 0.70310115 0.6718476  0.70376612\n",
      " 0.69977631 0.67517245 0.62396982 0.69911134 0.71374066 0.6977814\n",
      " 0.64458387 0.71573557 0.67783233 0.69312662 0.72438017 0.66652785\n",
      " 0.68847183 0.68847183 0.65455841 0.7237152 ]\n"
     ]
    }
   ],
   "source": [
    "w_rate = (y_hat_inc - y_hat) / (w_inc - w)\n",
    "print(w_rate)"
   ]
  },
  {
   "cell_type": "code",
   "execution_count": 42,
   "metadata": {},
   "outputs": [
    {
     "name": "stdout",
     "output_type": "stream",
     "text": [
      "[1.64059405 1.71041581 1.65123356 1.68581196 1.70110625 1.70376612\n",
      " 1.70775594 1.67982723 1.64059405 1.65455841 1.73036489 1.66785779\n",
      " 1.69645146 1.67982723 1.69445655 1.68980177 1.6525635  1.67118263\n",
      " 1.68514699 1.68980177 1.71374066 1.69246165 1.68115717 1.64125902\n",
      " 1.65655331 1.68647692 1.72637507 1.64192399 1.69179668 1.68248711\n",
      " 1.65123356 1.71906041 1.60136087 1.70975085 1.71773048 1.6977814\n",
      " 1.66453294 1.6718476  1.63460933 1.6698527  1.68381705 1.72039035\n",
      " 1.68514699 1.69312662 1.63660424 1.70044128 1.68581196 1.7237152\n",
      " 1.70443109 1.6698527  1.68315208 1.66852276 1.68448202 1.68847183\n",
      " 1.663203   1.70908588 1.65322847 1.71773048 1.71839544 1.69445655\n",
      " 1.68115717 1.67583742 1.68315208 1.70177122 1.69445655 1.69379159\n",
      " 1.68980177 1.68780686 1.69711643 1.70709097 1.72172029 1.65788325\n",
      " 1.68115717 1.69113171 1.67716736 1.6977814  1.6612081  1.70110625\n",
      " 1.71440563 1.70177122 1.67118263 1.69246165 1.70044128 1.67251257\n",
      " 1.70310115 1.63460933 1.72504514 1.68248711 1.70376612 1.70842091\n",
      " 1.69445655 1.64657878 1.67583742 1.71839544 1.6891368  1.71440563\n",
      " 1.67251257 1.62396982 1.68182214 1.71839544 1.66785779 1.706426\n",
      " 1.6612081  1.65322847 1.63859915 1.69844637 1.72571011 1.64790871\n",
      " 1.65056859 1.68448202 1.69844637 1.67583742 1.66586288 1.6698527\n",
      " 1.61067044 1.67783233 1.64258896 1.69179668 1.68514699 1.70775594\n",
      " 1.67583742 1.66785779 1.62862461 1.65721828 1.66386797 1.68381705\n",
      " 1.71640054 1.67982723 1.71706551 1.66852276 1.61931504 1.72172029\n",
      " 1.69179668 1.71174575 1.65189853 1.6439189  1.72903495 1.64790871\n",
      " 1.61000547 1.64059405 1.6698527  1.64923865 1.67118263 1.67517245\n",
      " 1.64990362 1.59936596 1.64192399 1.62130995 1.66918773 1.68182214\n",
      " 1.6352743  1.68115717 1.67916226 1.70576103 1.66586288 1.64125902\n",
      " 1.68514699 1.69911134 1.71906041 1.65189853 1.71706551 1.63926411\n",
      " 1.65987816 1.63394436 1.69046674 1.71972538 1.71573557 1.63593927\n",
      " 1.64192399 1.69512152 1.69113171 1.70709097 1.63460933 1.72770501\n",
      " 1.67251257 1.70243618 1.66652785 1.66187307 1.68381705 1.68847183\n",
      " 1.67583742 1.70509606 1.67517245 1.70044128 1.66386797 1.68980177\n",
      " 1.6525635  1.71241072 1.6804922  1.71972538 1.68647692 1.70443109\n",
      " 1.6977814  1.68182214 1.7150706  1.663203   1.70709097 1.67650239\n",
      " 1.64524884 1.706426   1.71440563 1.71307569 1.67783233 1.65987816\n",
      " 1.67450748 1.64990362 1.66253804 1.65056859 1.65389344 1.68980177\n",
      " 1.6698527  1.65588834 1.67650239 1.72238526 1.69911134 1.62064498\n",
      " 1.65655331 1.65921319 1.71906041 1.70443109 1.70310115 1.70243618\n",
      " 1.69445655 1.69312662 1.71972538 1.65854822 1.70709097 1.69711643\n",
      " 1.68647692 1.68847183 1.63460933 1.6977814  1.6784973  1.65588834\n",
      " 1.65455841 1.68780686 1.67450748 1.72105532 1.68448202 1.66652785\n",
      " 1.63261442 1.68381705 1.69312662 1.70709097 1.64524884 1.70044128\n",
      " 1.69844637 1.72903495 1.64923865 1.64125902 1.6439189  1.6179851\n",
      " 1.64192399 1.65788325 1.6439189  1.71906041 1.57941689 1.71307569\n",
      " 1.69379159 1.70110625 1.68381705 1.70443109 1.60003093 1.72637507\n",
      " 1.6612081  1.69445655 1.71706551 1.67916226 1.62396982 1.69844637\n",
      " 1.65987816 1.67317754 1.67450748 1.69113171 1.69379159 1.68581196\n",
      " 1.66253804 1.7150706  1.70110625 1.69379159 1.66719282 1.7343547\n",
      " 1.68182214 1.71108078 1.69246165 1.69113171 1.71241072 1.68248711\n",
      " 1.6891368  1.64458387 1.63128448 1.66719282 1.69246165 1.62130995\n",
      " 1.6977814  1.65455841 1.71640054 1.68381705 1.70177122 1.68714189\n",
      " 1.63327939 1.69379159 1.65788325 1.65721828 1.70243618 1.70310115\n",
      " 1.67982723 1.6977814  1.70709097 1.67783233 1.63859915 1.65389344\n",
      " 1.69312662 1.64591381 1.65389344 1.69113171 1.6698527  1.69977631\n",
      " 1.67450748 1.67583742 1.65987816 1.64657878 1.64059405 1.68315208\n",
      " 1.67517245 1.64524884 1.68381705 1.60801056 1.63726921 1.71307569\n",
      " 1.65987816 1.69445655 1.61399529 1.68248711 1.70775594 1.70842091\n",
      " 1.62596473 1.68647692 1.69911134 1.68315208 1.68714189 1.64192399\n",
      " 1.66519791 1.66719282 1.68581196 1.6804922  1.66785779 1.69711643\n",
      " 1.69113171 1.71440563 1.64125902 1.70376612 1.72305023 1.71307569\n",
      " 1.65056859 1.68448202 1.69911134 1.64790871 1.73102986 1.67517245\n",
      " 1.66586288 1.68315208 1.61399529 1.69379159 1.68248711 1.70243618\n",
      " 1.59404621 1.57343217 1.67716736 1.65522337 1.71440563 1.68448202\n",
      " 1.69312662 1.68514699 1.69977631 1.6804922  1.63660424 1.67251257\n",
      " 1.67716736 1.70243618 1.66253804 1.73368974 1.64125902 1.69645146\n",
      " 1.69711643 1.69046674 1.70376612 1.66918773 1.69379159 1.67783233\n",
      " 1.63593927 1.72172029 1.69711643 1.70709097 1.66719282 1.67783233\n",
      " 1.6977814  1.68115717 1.66918773 1.66453294 1.65056859 1.706426\n",
      " 1.69911134 1.61865007 1.64524884 1.60269081 1.72836998 1.62130995\n",
      " 1.70975085 1.68581196 1.69578649 1.64258896 1.62596473 1.67916226\n",
      " 1.67450748 1.67317754 1.62928958 1.63460933 1.69379159 1.71241072\n",
      " 1.70110625 1.66852276 1.63061952 1.70310115 1.6718476  1.70376612\n",
      " 1.69977631 1.67517245 1.62396982 1.69911134 1.71374066 1.6977814\n",
      " 1.64458387 1.71573557 1.67783233 1.69312662 1.72438017 1.66652785\n",
      " 1.68847183 1.68847183 1.65455841 1.7237152 ]\n"
     ]
    }
   ],
   "source": [
    "w_new = w + w_rate\n",
    "print(w_new)"
   ]
  },
  {
   "cell_type": "code",
   "execution_count": 44,
   "metadata": {},
   "outputs": [
    {
     "name": "stdout",
     "output_type": "stream",
     "text": [
      "1.1616962065186887\n"
     ]
    }
   ],
   "source": [
    "b_inc = b + 0.1\n",
    "y_hat_inc = x[0] * w + b_inc\n",
    "print(y_hat_inc)"
   ]
  },
  {
   "cell_type": "code",
   "execution_count": 45,
   "metadata": {},
   "outputs": [
    {
     "name": "stdout",
     "output_type": "stream",
     "text": [
      "[1.57889785 1.64871961 1.58953735 1.62411575 1.63941004 1.64206992\n",
      " 1.64605973 1.61813103 1.57889785 1.5928622  1.66866868 1.60616158\n",
      " 1.63475526 1.61813103 1.63276035 1.62810556 1.59086729 1.60948643\n",
      " 1.62345078 1.62810556 1.65204445 1.63076544 1.61946097 1.57956282\n",
      " 1.59485711 1.62478072 1.66467887 1.58022778 1.63010047 1.6207909\n",
      " 1.58953735 1.65736421 1.53966467 1.64805464 1.65603427 1.63608519\n",
      " 1.60283674 1.6101514  1.57291312 1.60815649 1.62212084 1.65869415\n",
      " 1.62345078 1.63143041 1.57490803 1.63874507 1.62411575 1.66201899\n",
      " 1.64273489 1.60815649 1.62145587 1.60682655 1.62278581 1.62677563\n",
      " 1.6015068  1.64738967 1.59153226 1.65603427 1.65669924 1.63276035\n",
      " 1.61946097 1.61414121 1.62145587 1.64007501 1.63276035 1.63209538\n",
      " 1.62810556 1.62611066 1.63542023 1.64539476 1.66002408 1.59618704\n",
      " 1.61946097 1.6294355  1.61547115 1.63608519 1.59951189 1.63941004\n",
      " 1.65270942 1.64007501 1.60948643 1.63076544 1.63874507 1.61081637\n",
      " 1.64140495 1.57291312 1.66334893 1.6207909  1.64206992 1.6467247\n",
      " 1.63276035 1.58488257 1.61414121 1.65669924 1.6274406  1.65270942\n",
      " 1.61081637 1.56227362 1.62012593 1.65669924 1.60616158 1.64472979\n",
      " 1.59951189 1.59153226 1.57690294 1.63675016 1.6640139  1.58621251\n",
      " 1.58887238 1.62278581 1.63675016 1.61414121 1.60416667 1.60815649\n",
      " 1.54897423 1.61613612 1.58089275 1.63010047 1.62345078 1.64605973\n",
      " 1.61414121 1.60616158 1.5669284  1.59552208 1.60217177 1.62212084\n",
      " 1.65470433 1.61813103 1.6553693  1.60682655 1.55761883 1.66002408\n",
      " 1.63010047 1.65004955 1.59020232 1.58222269 1.66733874 1.58621251\n",
      " 1.54830926 1.57889785 1.60815649 1.58754245 1.60948643 1.61347624\n",
      " 1.58820741 1.53766976 1.58022778 1.55961374 1.60749152 1.62012593\n",
      " 1.57357809 1.61946097 1.61746606 1.64406482 1.60416667 1.57956282\n",
      " 1.62345078 1.63741513 1.65736421 1.59020232 1.6553693  1.57756791\n",
      " 1.59818195 1.57224815 1.62877053 1.65802918 1.65403936 1.57424306\n",
      " 1.58022778 1.63342532 1.6294355  1.64539476 1.57291312 1.66600881\n",
      " 1.61081637 1.64073998 1.60483164 1.60017686 1.62212084 1.62677563\n",
      " 1.61414121 1.64339986 1.61347624 1.63874507 1.60217177 1.62810556\n",
      " 1.59086729 1.65071452 1.618796   1.65802918 1.62478072 1.64273489\n",
      " 1.63608519 1.62012593 1.65337439 1.6015068  1.64539476 1.61480618\n",
      " 1.58355263 1.64472979 1.65270942 1.65137948 1.61613612 1.59818195\n",
      " 1.61281127 1.58820741 1.60084183 1.58887238 1.59219723 1.62810556\n",
      " 1.60815649 1.59419214 1.61480618 1.66068905 1.63741513 1.55894877\n",
      " 1.59485711 1.59751698 1.65736421 1.64273489 1.64140495 1.64073998\n",
      " 1.63276035 1.63143041 1.65802918 1.59685201 1.64539476 1.63542023\n",
      " 1.62478072 1.62677563 1.57291312 1.63608519 1.61680109 1.59419214\n",
      " 1.5928622  1.62611066 1.61281127 1.65935911 1.62278581 1.60483164\n",
      " 1.57091822 1.62212084 1.63143041 1.64539476 1.58355263 1.63874507\n",
      " 1.63675016 1.66733874 1.58754245 1.57956282 1.58222269 1.55628889\n",
      " 1.58022778 1.59618704 1.58222269 1.65736421 1.51772068 1.65137948\n",
      " 1.63209538 1.63941004 1.62212084 1.64273489 1.53833473 1.66467887\n",
      " 1.59951189 1.63276035 1.6553693  1.61746606 1.56227362 1.63675016\n",
      " 1.59818195 1.61148134 1.61281127 1.6294355  1.63209538 1.62411575\n",
      " 1.60084183 1.65337439 1.63941004 1.63209538 1.60549661 1.6726585\n",
      " 1.62012593 1.64938458 1.63076544 1.6294355  1.65071452 1.6207909\n",
      " 1.6274406  1.58288766 1.56958828 1.60549661 1.63076544 1.55961374\n",
      " 1.63608519 1.5928622  1.65470433 1.62212084 1.64007501 1.62544569\n",
      " 1.57158319 1.63209538 1.59618704 1.59552208 1.64073998 1.64140495\n",
      " 1.61813103 1.63608519 1.64539476 1.61613612 1.57690294 1.59219723\n",
      " 1.63143041 1.5842176  1.59219723 1.6294355  1.60815649 1.6380801\n",
      " 1.61281127 1.61414121 1.59818195 1.58488257 1.57889785 1.62145587\n",
      " 1.61347624 1.58355263 1.62212084 1.54631436 1.575573   1.65137948\n",
      " 1.59818195 1.63276035 1.55229908 1.6207909  1.64605973 1.6467247\n",
      " 1.56426852 1.62478072 1.63741513 1.62145587 1.62544569 1.58022778\n",
      " 1.60350171 1.60549661 1.62411575 1.618796   1.60616158 1.63542023\n",
      " 1.6294355  1.65270942 1.57956282 1.64206992 1.66135402 1.65137948\n",
      " 1.58887238 1.62278581 1.63741513 1.58621251 1.66933365 1.61347624\n",
      " 1.60416667 1.62145587 1.55229908 1.63209538 1.6207909  1.64073998\n",
      " 1.53235    1.51173596 1.61547115 1.59352717 1.65270942 1.62278581\n",
      " 1.63143041 1.62345078 1.6380801  1.618796   1.57490803 1.61081637\n",
      " 1.61547115 1.64073998 1.60084183 1.67199353 1.57956282 1.63475526\n",
      " 1.63542023 1.62877053 1.64206992 1.60749152 1.63209538 1.61613612\n",
      " 1.57424306 1.66002408 1.63542023 1.64539476 1.60549661 1.61613612\n",
      " 1.63608519 1.61946097 1.60749152 1.60283674 1.58887238 1.64472979\n",
      " 1.63741513 1.55695386 1.58355263 1.5409946  1.66667378 1.55961374\n",
      " 1.64805464 1.62411575 1.63409029 1.58089275 1.56426852 1.61746606\n",
      " 1.61281127 1.61148134 1.56759337 1.57291312 1.63209538 1.65071452\n",
      " 1.63941004 1.60682655 1.56892331 1.64140495 1.6101514  1.64206992\n",
      " 1.6380801  1.61347624 1.56227362 1.63741513 1.65204445 1.63608519\n",
      " 1.58288766 1.65403936 1.61613612 1.63143041 1.66268396 1.60483164\n",
      " 1.62677563 1.62677563 1.5928622  1.66201899]\n"
     ]
    }
   ],
   "source": [
    "b_rate = (y_hat_inc - y_hat) / (b_inc - b)\n",
    "print(b_rate)"
   ]
  },
  {
   "cell_type": "code",
   "execution_count": 46,
   "metadata": {},
   "outputs": [
    {
     "name": "stdout",
     "output_type": "stream",
     "text": [
      "2.0\n"
     ]
    }
   ],
   "source": [
    "b_new = b + 1\n",
    "print(b_new)"
   ]
  },
  {
   "cell_type": "code",
   "execution_count": 47,
   "metadata": {},
   "outputs": [
    {
     "name": "stdout",
     "output_type": "stream",
     "text": [
      "[ 97.08666954 107.56462833  98.68324791 103.87228398 106.16751082\n",
      " 106.56668549 107.16545013 102.97416447  97.08666954  99.18218329\n",
      " 110.55850993 101.17794694 105.46895857 102.97416447 105.16958036\n",
      " 104.4710343   98.8828218  101.67689338 103.77249257 104.4710343\n",
      " 108.06360307 104.87020295 103.17374596  97.18645502  99.48154559\n",
      " 103.97207548 109.95972724  97.28624059 104.77041065 103.37332781\n",
      "  98.68324791 108.86196725  91.19948245 107.46483365 108.66237567\n",
      " 105.66854449 100.67900271 101.77668293  96.18860415 101.47731454\n",
      " 103.57291001 109.06155918 103.77249257 104.96999533  96.48795848\n",
      " 106.06771738 103.87228398 109.56054055 106.66647937 101.47731454\n",
      " 103.47311887 101.27773605 103.67270125 104.2714505  100.47942564\n",
      " 107.36503905  98.98260887 108.66237567 108.76217142 105.16958036\n",
      " 103.17374596 102.37542211 103.47311887 106.26730436 105.16958036\n",
      " 105.0697878  104.4710343  104.17165874 105.56875148 107.0656558\n",
      " 109.26115146  99.68112089 103.17374596 104.67061844 102.57500254\n",
      " 105.66854449 100.1800607  106.16751082 108.16339828 106.26730436\n",
      " 101.67689338 104.87020295 106.06771738 101.87647258 106.46689169\n",
      "  96.18860415 109.76013372 103.37332781 106.56668549 107.26524455\n",
      " 105.16958036  97.98474209 102.37542211 108.76217142 104.37124236\n",
      " 108.16339828 101.87647258  94.59206115 103.27353684 108.76217142\n",
      " 101.17794694 106.96586156 100.1800607   98.98260887  96.78731361\n",
      " 105.76833758 109.85993044  98.18431474  98.5834611  103.67270125\n",
      " 105.76833758 102.37542211 100.87858014 101.47731454  92.59641424\n",
      " 102.67479289  97.38602626 104.77041065 103.77249257 107.16545013\n",
      " 102.37542211 101.17794694  95.29054593  99.58133319 100.57921413\n",
      " 103.57291001 108.46278445 102.97416447 108.56258002 101.27773605\n",
      "  93.89358071 109.26115146 104.77041065 107.76421796  98.78303481\n",
      "  97.58559785 110.35891535  98.18431474  92.49663282  97.08666954\n",
      " 101.47731454  98.38388774 101.67689338 102.27563203  98.48367437\n",
      "  90.90014218  97.28624059  94.19292894 101.37752525 103.27353684\n",
      "  96.28838884 103.17374596 102.87437385 106.86606741 100.87858014\n",
      "  97.18645502 103.77249257 105.86813076 108.86196725  98.78303481\n",
      " 108.56258002  96.88709883  99.98048451  96.08881955 104.57082633\n",
      " 108.96176317 108.36298897  96.38817362  97.28624059 105.26937301\n",
      " 104.67061844 107.0656558   96.18860415 110.15932112 101.87647258\n",
      " 106.36709798 100.97836898 100.27984892 103.57291001 104.2714505\n",
      " 102.37542211 106.76627335 102.27563203 106.06771738 100.57921413\n",
      " 104.4710343   98.8828218  107.86401291 103.07395517 108.96176317\n",
      " 103.97207548 106.66647937 105.66854449 103.27353684 108.26319358\n",
      " 100.47942564 107.0656558  102.47521228  97.78516979 106.96586156\n",
      " 108.16339828 107.96380794 102.67479289  99.98048451 102.17584203\n",
      "  98.48367437 100.37963724  98.5834611   99.08239604 104.4710343\n",
      " 101.47731454  99.38175807 102.47521228 109.36094774 105.86813076\n",
      "  94.09314611  99.48154559  99.88069655 108.86196725 106.66647937\n",
      " 106.46689169 106.36709798 105.16958036 104.96999533 108.96176317\n",
      "  99.78090867 107.0656558  105.56875148 103.97207548 104.2714505\n",
      "  96.18860415 105.66854449 102.77458333  99.38175807  99.18218329\n",
      " 104.17165874 102.17584203 109.16135528 103.67270125 100.97836898\n",
      "  95.88925061 103.57291001 104.96999533 107.0656558   97.78516979\n",
      " 106.06771738 105.76833758 110.35891535  98.38388774  97.18645502\n",
      "  97.58559785  93.69401566  97.28624059  99.68112089  97.58559785\n",
      " 108.86196725  87.90678325 107.96380794 105.0697878  106.16751082\n",
      " 103.57291001 106.66647937  90.99992218 109.95972724 100.1800607\n",
      " 105.16958036 108.56258002 102.87437385  94.59206115 105.76833758\n",
      "  99.98048451 101.97626231 102.17584203 104.67061844 105.0697878\n",
      " 103.87228398 100.37963724 108.26319358 106.16751082 105.0697878\n",
      " 101.07815792 111.1572958  103.27353684 107.6644231  104.87020295\n",
      " 104.67061844 107.86401291 103.37332781 104.37124236  97.68538377\n",
      "  95.68968203 101.07815792 104.87020295  94.19292894 105.66854449\n",
      "  99.18218329 108.46278445 103.57291001 106.26730436 104.07186706\n",
      "  95.98903504 105.0697878   99.68112089  99.58133319 106.36709798\n",
      " 106.46689169 102.97416447 105.66854449 107.0656558  102.67479289\n",
      "  96.78731361  99.08239604 104.96999533  97.88495589  99.08239604\n",
      " 104.67061844 101.47731454 105.96792402 102.17584203 102.37542211\n",
      "  99.98048451  97.98474209  97.08666954 103.47311887 102.27563203\n",
      "  97.78516979 103.57291001  92.1972891   96.58774344 107.96380794\n",
      "  99.98048451 105.16958036  93.09532265 103.37332781 107.16545013\n",
      " 107.26524455  94.89141124 103.97207548 105.86813076 103.47311887\n",
      " 104.07186706  97.28624059 100.77879138 101.07815792 103.87228398\n",
      " 103.07395517 101.17794694 105.56875148 104.67061844 108.16339828\n",
      "  97.18645502 106.56668549 109.4607441  107.96380794  98.5834611\n",
      " 103.67270125 105.86813076  98.18431474 110.65830735 102.27563203\n",
      " 100.87858014 103.47311887  93.09532265 105.0697878  103.37332781\n",
      " 106.36709798  90.10190535  87.00879109 102.57500254  99.28197064\n",
      " 108.16339828 103.67270125 104.96999533 103.77249257 105.96792402\n",
      " 103.07395517  96.48795848 101.87647258 102.57500254 106.36709798\n",
      " 100.37963724 111.05749793  97.18645502 105.46895857 105.56875148\n",
      " 104.57082633 106.56668549 101.37752525 105.0697878  102.67479289\n",
      "  96.38817362 109.26115146 105.56875148 107.0656558  101.07815792\n",
      " 102.67479289 105.66854449 103.17374596 101.37752525 100.67900271\n",
      "  98.5834611  106.96586156 105.86813076  93.79379814  97.78516979\n",
      "  91.39904308 110.25911819  94.19292894 107.46483365 103.87228398\n",
      " 105.36916575  97.38602626  94.89141124 102.87437385 102.17584203\n",
      " 101.97626231  95.39032982  96.18860415 105.0697878  107.86401291\n",
      " 106.16751082 101.27773605  95.58989787 106.46689169 101.77668293\n",
      " 106.56668549 105.96792402 102.27563203  94.59206115 105.86813076\n",
      " 108.06360307 105.66854449  97.68538377 108.36298897 102.67479289\n",
      " 104.96999533 109.66033709 100.97836898 104.2714505  104.2714505\n",
      "  99.18218329 109.56054055] [150.99619358 151.00317575 150.99725753 151.00071537 151.0022448\n",
      " 151.00251079 151.00290977 151.0001169  150.99619358 150.99759001\n",
      " 151.00517066 150.99891995 151.00177932 151.0001169  151.00157983\n",
      " 151.00111435 150.99739052 150.99925244 151.00064887 151.00111435\n",
      " 151.00350824 151.00138034 151.00024989 150.99626008 150.9977895\n",
      " 151.00078187 151.00477168 150.99632657 151.00131384 151.00038288\n",
      " 150.99725753 151.00404021 150.99227026 151.00310926 151.00390722\n",
      " 151.00191231 150.99858747 150.99931893 150.99559511 150.99911944\n",
      " 151.00051588 151.00417321 151.00064887 151.00144683 150.9957946\n",
      " 151.0021783  151.00071537 151.00450569 151.00257728 150.99911944\n",
      " 151.00044938 150.99898645 151.00058237 151.00098136 150.99845447\n",
      " 151.00304276 150.99745702 151.00390722 151.00397372 151.00157983\n",
      " 151.00024989 150.99971791 151.00044938 151.00231129 151.00157983\n",
      " 151.00151333 151.00111435 151.00091486 151.00184582 151.00284327\n",
      " 151.0043062  150.9979225  151.00024989 151.00124734 150.99985091\n",
      " 151.00191231 150.99825498 151.0022448  151.00357474 151.00231129\n",
      " 150.99925244 151.00138034 151.0021783  150.99938543 151.00244429\n",
      " 150.99559511 151.00463869 151.00038288 151.00251079 151.00297626\n",
      " 151.00157983 150.99679205 150.99971791 151.00397372 151.00104785\n",
      " 151.00357474 150.99938543 150.99453116 151.00031639 151.00397372\n",
      " 150.99891995 151.00277677 150.99825498 150.99745702 150.99599409\n",
      " 151.00197881 151.00470518 150.99692504 150.99719103 151.00058237\n",
      " 151.00197881 150.99971791 150.99872046 150.99911944 150.99320122\n",
      " 150.99991741 150.99639307 151.00131384 151.00064887 151.00290977\n",
      " 150.99971791 150.99891995 150.99499663 150.997856   150.99852097\n",
      " 151.00051588 151.00377423 151.0001169  151.00384072 150.99898645\n",
      " 150.99406568 151.0043062  151.00131384 151.00330875 150.99732403\n",
      " 150.99652606 151.00503767 150.99692504 150.99313472 150.99619358\n",
      " 150.99911944 150.99705804 150.99925244 150.99965142 150.99712453\n",
      " 150.99207077 150.99632657 150.99426517 150.99905295 151.00031639\n",
      " 150.9956616  151.00024989 151.0000504  151.00271028 150.99872046\n",
      " 150.99626008 151.00064887 151.00204531 151.00404021 150.99732403\n",
      " 151.00384072 150.99606058 150.99812199 150.99552861 151.00118085\n",
      " 151.00410671 151.00370773 150.9957281  150.99632657 151.00164633\n",
      " 151.00124734 151.00284327 150.99559511 151.00490467 150.99938543\n",
      " 151.00237779 150.99878696 150.99832148 151.00051588 151.00098136\n",
      " 150.99971791 151.00264378 150.99965142 151.0021783  150.99852097\n",
      " 151.00111435 150.99739052 151.00337525 151.00018339 151.00410671\n",
      " 151.00078187 151.00257728 151.00191231 151.00031639 151.00364123\n",
      " 150.99845447 151.00284327 150.99978441 150.99665906 151.00277677\n",
      " 151.00357474 151.00344174 150.99991741 150.99812199 150.99958492\n",
      " 150.99712453 150.99838798 150.99719103 150.99752352 151.00111435\n",
      " 150.99911944 150.99772301 150.99978441 151.0043727  151.00204531\n",
      " 150.99419867 150.9977895  150.99805549 151.00404021 151.00257728\n",
      " 151.00244429 151.00237779 151.00157983 151.00144683 151.00410671\n",
      " 150.99798899 151.00284327 151.00184582 151.00078187 151.00098136\n",
      " 150.99559511 151.00191231 150.9999839  150.99772301 150.99759001\n",
      " 151.00091486 150.99958492 151.0042397  151.00058237 150.99878696\n",
      " 150.99539562 151.00051588 151.00144683 151.00284327 150.99665906\n",
      " 151.0021783  151.00197881 151.00503767 150.99705804 150.99626008\n",
      " 150.99652606 150.99393268 150.99632657 150.9979225  150.99652606\n",
      " 151.00404021 150.99007586 151.00344174 151.00151333 151.0022448\n",
      " 151.00051588 151.00257728 150.99213727 151.00477168 150.99825498\n",
      " 151.00157983 151.00384072 151.0000504  150.99453116 151.00197881\n",
      " 150.99812199 150.99945193 150.99958492 151.00124734 151.00151333\n",
      " 151.00071537 150.99838798 151.00364123 151.0022448  151.00151333\n",
      " 150.99885345 151.00556964 151.00031639 151.00324225 151.00138034\n",
      " 151.00124734 151.00337525 151.00038288 151.00104785 150.99659256\n",
      " 150.99526262 150.99885345 151.00138034 150.99426517 151.00191231\n",
      " 150.99759001 151.00377423 151.00051588 151.00231129 151.00084836\n",
      " 150.99546211 151.00151333 150.9979225  150.997856   151.00237779\n",
      " 151.00244429 151.0001169  151.00191231 151.00284327 150.99991741\n",
      " 150.99599409 150.99752352 151.00144683 150.99672555 150.99752352\n",
      " 151.00124734 150.99911944 151.0021118  150.99958492 150.99971791\n",
      " 150.99812199 150.99679205 150.99619358 151.00044938 150.99965142\n",
      " 150.99665906 151.00051588 150.99293523 150.99586109 151.00344174\n",
      " 150.99812199 151.00157983 150.9935337  151.00038288 151.00290977\n",
      " 151.00297626 150.99473065 151.00078187 151.00204531 151.00044938\n",
      " 151.00084836 150.99632657 150.99865396 150.99885345 151.00071537\n",
      " 151.00018339 150.99891995 151.00184582 151.00124734 151.00357474\n",
      " 150.99626008 151.00251079 151.0044392  151.00344174 150.99719103\n",
      " 151.00058237 151.00204531 150.99692504 151.00523716 150.99965142\n",
      " 150.99872046 151.00044938 150.9935337  151.00151333 151.00038288\n",
      " 151.00237779 150.99153879 150.98947739 150.99985091 150.99765651\n",
      " 151.00357474 151.00058237 151.00144683 151.00064887 151.0021118\n",
      " 151.00018339 150.9957946  150.99938543 150.99985091 151.00237779\n",
      " 150.99838798 151.00550315 150.99626008 151.00177932 151.00184582\n",
      " 151.00118085 151.00251079 150.99905295 151.00151333 150.99991741\n",
      " 150.9957281  151.0043062  151.00184582 151.00284327 150.99885345\n",
      " 150.99991741 151.00191231 151.00024989 150.99905295 150.99858747\n",
      " 150.99719103 151.00277677 151.00204531 150.99399918 150.99665906\n",
      " 150.99240325 151.00497117 150.99426517 151.00310926 151.00071537\n",
      " 151.00171282 150.99639307 150.99473065 151.0000504  150.99958492\n",
      " 150.99945193 150.99506313 150.99559511 151.00151333 151.00337525\n",
      " 151.0022448  150.99898645 150.99519612 151.00244429 150.99931893\n",
      " 151.00251079 151.0021118  150.99965142 150.99453116 151.00204531\n",
      " 151.00350824 151.00191231 150.99659256 151.00370773 150.99991741\n",
      " 151.00144683 151.00457219 150.99878696 151.00098136 151.00098136\n",
      " 150.99759001 151.00450569]\n"
     ]
    }
   ],
   "source": [
    "err = y[0] - y_hat\n",
    "w_new = w + w_rate * err\n",
    "b_new = b + 1 * err\n",
    "print(w_new, b_new)"
   ]
  },
  {
   "cell_type": "code",
   "execution_count": 48,
   "metadata": {},
   "outputs": [
    {
     "name": "stdout",
     "output_type": "stream",
     "text": [
      "[100.74126346 111.19181948 102.33366634 107.50913164 109.79835582\n",
      " 110.19648653 110.79368524 106.61336096 100.74126346 102.83129687\n",
      " 114.17787123 104.82184104 109.10163048 106.61336096 108.80303522\n",
      " 108.10631606 102.53271829 105.31948259 107.40960121 108.10631606\n",
      " 111.68948926 108.50444077 106.81242049 100.84078798 103.12987624\n",
      " 107.60866215 113.58065453 100.94031258 108.40490946 107.01148038\n",
      " 102.33366634 112.48576549  94.86947299 111.09228578 112.2866959\n",
      " 109.30069442 104.32420169 105.41901117  99.84554676 105.12042571\n",
      " 107.21054062 112.68483543 107.40960121 108.60397216 100.1441182\n",
      " 109.69882337 107.50913164 113.18251183 110.29601943 105.12042571\n",
      " 107.11101045 104.92136917 107.31007087 107.90725423 104.12514657\n",
      " 110.99275218 102.63224439 112.2866959  112.38623065 108.80303522\n",
      " 106.81242049 106.01618448 107.11101045 109.89788837 108.80303522\n",
      " 108.70350365 108.10631606 107.80772345 109.20116241 110.6941519\n",
      " 112.88390573 103.3289296  106.81242049 108.30537823 106.21524295\n",
      " 109.30069442 103.82656454 109.79835582 111.78902348 109.89788837\n",
      " 105.31948259 108.50444077 109.69882337 105.51853983 110.09695372\n",
      "  99.84554676 113.381583   107.01148038 110.19648653 110.89321867\n",
      " 108.80303522 101.6369873  106.01618448 112.38623065 108.0067851\n",
      " 111.78902348 105.51853983  98.25317917 106.91195039 112.38623065\n",
      " 104.82184104 110.59461865 103.82656454 102.63224439 100.44269043\n",
      " 109.40022652 113.48111872 101.83603801 102.2341405  107.31007087\n",
      " 109.40022652 106.01618448 104.52325716 105.12042571  96.26275142\n",
      " 106.31477232 101.03983728 108.40490946 107.40960121 110.79368524\n",
      " 106.01618448 104.82184104  98.94983721 103.22940288 104.22467408\n",
      " 107.21054062 112.08762667 106.61336096 112.18716124 104.92136917\n",
      "  97.55652544 112.88390573 108.40490946 111.39088712 102.43319227\n",
      " 101.23888693 113.97879865 101.83603801  96.16323096 100.74126346\n",
      " 105.12042571 102.03508908 105.31948259 105.91665537 102.13461474\n",
      "  94.57091558 100.94031258  97.85509079 105.0208974  106.91195039\n",
      "  99.94507049 106.81242049 106.51383132 110.49508549 104.52325716\n",
      " 100.84078798 107.40960121 109.49975872 112.48576549 102.43319227\n",
      " 112.18716124 100.54221469 103.6275103   99.74602313 108.2058471\n",
      " 112.58530042 111.98809218 100.0445943  100.94031258 108.90256689\n",
      " 108.30537823 110.6941519   99.84554676 113.77972641 105.51853983\n",
      " 109.997421   104.62278503 103.9260918  107.21054062 107.90725423\n",
      " 106.01618448 110.39555241 105.91665537 109.69882337 104.22467408\n",
      " 108.10631606 102.53271829 111.49042108 106.71289068 112.58530042\n",
      " 107.60866215 110.29601943 109.30069442 106.91195039 111.88855779\n",
      " 104.12514657 110.6941519  106.11571367 101.43793694 110.59461865\n",
      " 111.78902348 111.58995512 106.31477232 103.6275103  105.81712636\n",
      " 102.13461474 104.02561914 102.2341405  102.73177059 108.10631606\n",
      " 105.12042571 103.0303497  106.11571367 112.983441   109.49975872\n",
      "  97.75556892 103.12987624 103.52798331 112.48576549 110.29601943\n",
      " 110.09695372 109.997421   108.80303522 108.60397216 112.58530042\n",
      " 103.42845642 110.6941519  109.20116241 107.60866215 107.90725423\n",
      "  99.84554676 109.30069442 106.41430178 103.0303497  102.83129687\n",
      " 107.80772345 105.81712636 112.78437053 107.31007087 104.62278503\n",
      "  99.54697612 107.21054062 108.60397216 110.6941519  101.43793694\n",
      " 109.69882337 109.40022652 113.97879865 102.03508908 100.84078798\n",
      " 101.23888693  97.35748232 100.94031258 103.3289296  101.23888693\n",
      " 112.48576549  91.5853851  111.58995512 108.70350365 109.79835582\n",
      " 107.21054062 110.29601943  94.67043463 113.58065453 103.82656454\n",
      " 108.80303522 112.18716124 106.51383132  98.25317917 109.40022652\n",
      " 103.6275103  105.61806859 105.81712636 108.30537823 108.70350365\n",
      " 107.50913164 104.02561914 111.88855779 109.79835582 108.70350365\n",
      " 104.72231299 114.77509111 106.91195039 111.29135326 108.50444077\n",
      " 108.30537823 111.49042108 107.01148038 108.0067851  101.33841189\n",
      "  99.34792946 104.72231299 108.50444077  97.85509079 109.30069442\n",
      " 102.83129687 112.08762667 107.21054062 109.89788837 107.70819276\n",
      "  99.64649958 108.70350365 103.3289296  103.22940288 109.997421\n",
      " 110.09695372 106.61336096 109.30069442 110.6941519  106.31477232\n",
      " 100.44269043 102.73177059 108.60397216 101.53746208 102.73177059\n",
      " 108.30537823 105.12042571 109.599291   105.81712636 106.01618448\n",
      " 103.6275103  101.6369873  100.74126346 107.11101045 105.91665537\n",
      " 101.43793694 107.21054062  95.86467011 100.24364219 111.58995512\n",
      " 103.6275103  108.80303522  96.76035505 107.01148038 110.79368524\n",
      " 110.89321867  98.55174637 107.60866215 109.49975872 107.11101045\n",
      " 107.70819276 100.94031258 104.42372938 104.72231299 107.50913164\n",
      " 106.71289068 104.82184104 109.20116241 108.30537823 111.78902348\n",
      " 100.84078798 110.19648653 113.08297637 111.58995512 102.2341405\n",
      " 107.31007087 109.49975872 101.83603801 114.27740766 105.91665537\n",
      " 104.52325716 107.11101045  96.76035505 108.70350365 107.01148038\n",
      " 109.997421    93.77476636  90.68974143 106.21524295 102.93082324\n",
      " 111.78902348 107.31007087 108.60397216 107.40960121 109.599291\n",
      " 106.71289068 100.1441182  105.51853983 106.21524295 109.997421\n",
      " 104.02561914 114.67555424 100.84078798 109.10163048 109.20116241\n",
      " 108.2058471  110.19648653 105.0208974  108.70350365 106.31477232\n",
      " 100.0445943  112.88390573 109.20116241 110.6941519  104.72231299\n",
      " 106.31477232 109.30069442 106.81242049 105.0208974  104.32420169\n",
      " 102.2341405  110.59461865 109.49975872  97.45700383 101.43793694\n",
      "  95.06851171 113.87926249  97.85509079 111.09228578 107.50913164\n",
      " 109.00209864 101.03983728  98.55174637 106.51383132 105.81712636\n",
      " 105.61806859  99.04936014  99.84554676 108.70350365 111.49042108\n",
      " 109.79835582 104.92136917  99.24840627 110.09695372 105.41901117\n",
      " 110.19648653 109.599291   105.91665537  98.25317917 109.49975872\n",
      " 111.68948926 109.30069442 101.33841189 111.98809218 106.31477232\n",
      " 108.60397216 113.28204737 104.62278503 107.90725423 107.90725423\n",
      " 102.83129687 113.18251183] [79.99744517 80.53678827 80.07962755 80.34672831 80.46487295 80.48542009\n",
      " 80.51624094 80.30049845 79.99744517 80.10530978 80.69089551 80.20803984\n",
      " 80.42891563 80.30049845 80.41350542 80.37754842 80.08990042 80.23372264\n",
      " 80.34159164 80.37754842 80.56247252 80.39809525 80.31077172 80.00258154\n",
      " 80.12071917 80.35186498 80.66007373 80.00771791 80.39295853 80.32104501\n",
      " 80.07962755 80.60356757 79.69440774 80.53165143 80.59329378 80.43918913\n",
      " 80.18235715 80.23885921 79.9512181  80.2234495  80.33131831 80.61384138\n",
      " 80.34159164 80.40323197 79.96662708 80.45973618 80.34672831 80.63952597\n",
      " 80.49055689 80.2234495  80.32618166 80.21317639 80.33645497 80.36727503\n",
      " 80.17208411 80.5265146  80.09503687 80.59329378 80.59843067 80.41350542\n",
      " 80.31077172 80.26967875 80.32618166 80.47000973 80.41350542 80.40836869\n",
      " 80.37754842 80.36213834 80.43405238 80.51110412 80.6241152  80.13099212\n",
      " 80.31077172 80.38782182 80.27995196 80.43918913 80.15667458 80.46487295\n",
      " 80.56760939 80.47000973 80.23372264 80.39809525 80.45973618 80.24399579\n",
      " 80.4802833  79.9512181  80.64979984 80.32104501 80.48542009 80.52137777\n",
      " 80.41350542 80.04367261 80.26967875 80.59843067 80.37241172 80.56760939\n",
      " 80.24399579 79.86903755 80.31590836 80.59843067 80.20803984 80.50596731\n",
      " 80.15667458 80.09503687 79.98203611 80.44432589 80.65493679 80.05394543\n",
      " 80.07449111 80.33645497 80.44432589 80.26967875 80.19263021 80.2234495\n",
      " 79.7663135  80.28508858 80.01285428 80.39295853 80.34159164 80.51624094\n",
      " 80.26967875 80.20803984 79.9049914  80.12585564 80.17722063 80.33131831\n",
      " 80.58302001 80.30049845 80.58815689 80.21317639 79.83308392 80.6241152\n",
      " 80.39295853 80.54706195 80.08476398 80.02312704 80.68062157 80.05394543\n",
      " 79.76117734 79.99744517 80.2234495  80.06421826 80.23372264 80.26454215\n",
      " 80.06935469 79.67899949 80.00771791 79.84849259 80.21831294 80.31590836\n",
      " 79.95635442 80.31077172 80.29536182 80.5008305  80.19263021 80.00258154\n",
      " 80.34159164 80.44946265 80.60356757 80.08476398 80.58815689 79.98717246\n",
      " 80.14640158 79.94608178 80.38268512 80.60870447 80.57788313 79.96149075\n",
      " 80.00771791 80.41864215 80.38782182 80.51110412 79.9512181  80.67034764\n",
      " 80.24399579 80.47514652 80.19776675 80.16181108 80.33131831 80.36727503\n",
      " 80.26967875 80.49569369 80.26454215 80.45973618 80.17722063 80.37754842\n",
      " 80.08990042 80.55219881 80.30563508 80.60870447 80.35186498 80.49055689\n",
      " 80.43918913 80.31590836 80.57274626 80.17208411 80.51110412 80.27481535\n",
      " 80.03339982 80.50596731 80.56760939 80.55733566 80.28508858 80.14640158\n",
      " 80.25940555 80.06935469 80.16694759 80.07449111 80.10017332 80.37754842\n",
      " 80.2234495  80.1155827  80.27481535 80.62925212 80.44946265 79.84335636\n",
      " 80.12071917 80.14126509 80.60356757 80.49055689 80.4802833  80.47514652\n",
      " 80.41350542 80.40323197 80.60870447 80.1361286  80.51110412 80.43405238\n",
      " 80.35186498 80.36727503 79.9512181  80.43918913 80.2902252  80.1155827\n",
      " 80.10530978 80.36213834 80.25940555 80.61897829 80.33645497 80.19776675\n",
      " 79.93580916 80.33131831 80.40323197 80.51110412 80.03339982 80.45973618\n",
      " 80.44432589 80.68062157 80.06421826 80.00258154 80.02312704 79.8228115\n",
      " 80.00771791 80.13099212 80.02312704 80.60356757 79.52491914 80.55733566\n",
      " 80.40836869 80.46487295 80.33131831 80.49055689 79.68413557 80.66007373\n",
      " 80.15667458 80.41350542 80.58815689 80.29536182 79.86903755 80.44432589\n",
      " 80.14640158 80.24913237 80.25940555 80.38782182 80.40836869 80.34672831\n",
      " 80.16694759 80.57274626 80.46487295 80.40836869 80.20290329 80.72171745\n",
      " 80.31590836 80.54192511 80.39809525 80.38782182 80.55219881 80.32104501\n",
      " 80.37241172 80.02826343 79.92553655 80.20290329 80.39809525 79.84849259\n",
      " 80.43918913 80.10530978 80.58302001 80.33131831 80.47000973 80.35700166\n",
      " 79.94094547 80.40836869 80.13099212 80.12585564 80.47514652 80.4802833\n",
      " 80.30049845 80.43918913 80.51110412 80.28508858 79.98203611 80.10017332\n",
      " 80.40323197 80.03853621 80.10017332 80.38782182 80.2234495  80.45459941\n",
      " 80.25940555 80.26967875 80.14640158 80.04367261 79.99744517 80.32618166\n",
      " 80.26454215 80.03339982 80.33131831 79.74576891 79.97176342 80.55733566\n",
      " 80.14640158 80.41350542 79.79199434 80.32104501 80.51624094 80.52137777\n",
      " 79.88444631 80.35186498 80.44946265 80.32618166 80.35700166 80.00771791\n",
      " 80.18749368 80.20290329 80.34672831 80.30563508 80.20803984 80.43405238\n",
      " 80.38782182 80.56760939 80.00258154 80.48542009 80.63438905 80.55733566\n",
      " 80.07449111 80.33645497 80.44946265 80.05394543 80.69603249 80.26454215\n",
      " 80.19263021 80.32618166 79.79199434 80.40836869 80.32104501 80.47514652\n",
      " 79.63791099 79.47869584 80.27995196 80.11044624 80.56760939 80.33645497\n",
      " 80.40323197 80.34159164 80.45459941 80.30563508 79.96662708 80.24399579\n",
      " 80.27995196 80.47514652 80.16694759 80.71658045 80.00258154 80.42891563\n",
      " 80.43405238 80.38268512 80.48542009 80.21831294 80.40836869 80.28508858\n",
      " 79.96149075 80.6241152  80.43405238 80.51110412 80.20290329 80.28508858\n",
      " 80.43918913 80.31077172 80.21831294 80.18235715 80.07449111 80.50596731\n",
      " 80.44946265 79.82794771 80.03339982 79.70467994 80.6754846  79.84849259\n",
      " 80.53165143 80.34672831 80.42377889 80.01285428 79.88444631 80.29536182\n",
      " 80.25940555 80.24913237 79.91012768 79.9512181  80.40836869 80.55219881\n",
      " 80.46487295 80.21317639 79.92040026 80.4802833  80.23885921 80.48542009\n",
      " 80.45459941 80.26454215 79.86903755 80.44946265 80.56247252 80.43918913\n",
      " 80.02826343 80.57788313 80.28508858 80.40323197 80.64466291 80.19776675\n",
      " 80.36727503 80.36727503 80.10530978 80.63952597]\n"
     ]
    }
   ],
   "source": [
    "y_hat = x[1] * w_new + b_new\n",
    "err = y[1] - y_hat\n",
    "w_rate = x[1]\n",
    "w_new = w_new + w_rate * err\n",
    "b_new = b_new + 1 * err\n",
    "print(w_new, b_new)"
   ]
  },
  {
   "cell_type": "code",
   "execution_count": 49,
   "metadata": {},
   "outputs": [
    {
     "name": "stdout",
     "output_type": "stream",
     "text": [
      "587.8654539985689 99.40935564531424\n"
     ]
    }
   ],
   "source": [
    "for x_i, y_i in zip(x,y):\n",
    "    y_hat = x_i * w + b\n",
    "    err = y_i - y_hat\n",
    "    w_rate = x_i\n",
    "    w = w + w_rate * err\n",
    "    b = b + 1 * err\n",
    "    \n",
    "print(w,b)"
   ]
  },
  {
   "cell_type": "code",
   "execution_count": 51,
   "metadata": {},
   "outputs": [
    {
     "data": {
      "image/png": "[encoded data removed]",
      "text/plain": [
       "<Figure size 432x288 with 1 Axes>"
      ]
     },
     "metadata": {
      "needs_background": "light"
     },
     "output_type": "display_data"
    }
   ],
   "source": [
    "plt.scatter(x,y)\n",
    "pt1 = (-0.1, -0.1 * w + b)\n",
    "pt2 = (0.15, 0.15 * w + b)\n",
    "plt.plot([pt1[0], pt2[0]], [pt1[1], pt2[1]])\n",
    "plt.xlabel('x')\n",
    "plt.ylabel('y')\n",
    "plt.show()\n"
   ]
  },
  {
   "cell_type": "code",
   "execution_count": 53,
   "metadata": {},
   "outputs": [
    {
     "name": "stdout",
     "output_type": "stream",
     "text": [
      "913.5973364345905 123.39414383177204\n"
     ]
    }
   ],
   "source": [
    "for i in range(1, 100):\n",
    "    for x_i, y_i in zip(x, y):\n",
    "        y_hat = x_i * w + b\n",
    "        err = y_i - y_hat\n",
    "        w_rate = x_i\n",
    "        w = w + w_rate * err\n",
    "        b = b + 1 * err\n",
    "        \n",
    "        \n",
    "print(w,b)"
   ]
  },
  {
   "cell_type": "code",
   "execution_count": 54,
   "metadata": {},
   "outputs": [
    {
     "data": {
      "image/png": "[encoded data removed]",
      "text/plain": [
       "<Figure size 432x288 with 1 Axes>"
      ]
     },
     "metadata": {
      "needs_background": "light"
     },
     "output_type": "display_data"
    }
   ],
   "source": [
    "plt.scatter(x,y)\n",
    "pt1 = (-0.1, -0.1 * w + b)\n",
    "pt2 = (0.15, 0.15 * w + b)\n",
    "plt.plot([pt1[0], pt2[0]], [pt1[1], pt2[1]])\n",
    "plt.xlabel('x')\n",
    "plt.ylabel('y')\n",
    "plt.show()"
   ]
  },
  {
   "cell_type": "code",
   "execution_count": 55,
   "metadata": {},
   "outputs": [
    {
     "name": "stdout",
     "output_type": "stream",
     "text": [
      "287.8416643899983\n"
     ]
    }
   ],
   "source": [
    "x_new = 0.18\n",
    "y_pred = x_new * w + b # y_predict 예측값\n",
    "print(y_pred)"
   ]
  },
  {
   "cell_type": "code",
   "execution_count": 56,
   "metadata": {},
   "outputs": [
    {
     "data": {
      "image/png": "[encoded data removed]",
      "text/plain": [
       "<Figure size 432x288 with 1 Axes>"
      ]
     },
     "metadata": {
      "needs_background": "light"
     },
     "output_type": "display_data"
    }
   ],
   "source": [
    "plt.scatter(x,y)\n",
    "plt.scatter(x_new, y_pred)\n",
    "plt.xlabel('x')\n",
    "plt.ylabel('y')\n",
    "plt.show() # 아까 전 라인 상 위에 존재하는 주황색 점이라는 것을 알 수 있음"
   ]
  }
 ],
 "metadata": {
  "kernelspec": {
   "display_name": "Python 3",
   "language": "python",
   "name": "python3"
  },
  "language_info": {
   "codemirror_mode": {
    "name": "ipython",
    "version": 3
   },
   "file_extension": ".py",
   "mimetype": "text/x-python",
   "name": "python",
   "nbconvert_exporter": "python",
   "pygments_lexer": "ipython3",
   "version": "3.7.4"
  }
 },
 "nbformat": 4,
 "nbformat_minor": 4
}
